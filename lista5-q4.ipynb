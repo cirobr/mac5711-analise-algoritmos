{
 "cells": [
  {
   "cell_type": "code",
   "execution_count": null,
   "metadata": {},
   "outputs": [],
   "source": [
    "function inteiros_entre_a_b(A::Vector{Int}, k::Int, a::Int, b::Int)\n",
    "    n = size(A)[1]\n",
    "    B = zeros(Int, n)\n",
    "    C = zeros(Int, k)   # k valor máximo de elemento contido em A\n",
    "    \n",
    "    for j in 1:n\n",
    "        C[ A[j] ] += 1\n",
    "    end\n",
    "    \n",
    "    for i in 2:k\n",
    "        C[i] = C[i] + C[i-1]\n",
    "    end\n",
    "\n",
    "    if a - 1 > 0\n",
    "        res = C[b] - C[a-1]\n",
    "    elseif a - 1 == 0\n",
    "        res = C[b]\n",
    "    end\n",
    "           \n",
    "    return res\n",
    "end"
   ]
  },
  {
   "cell_type": "code",
   "execution_count": null,
   "metadata": {},
   "outputs": [],
   "source": [
    "A = [7, 1, 3, 1, 2, 4, 5, 7, 2, 4, 3]\n",
    "\n",
    "k = 7"
   ]
  },
  {
   "cell_type": "code",
   "execution_count": null,
   "metadata": {},
   "outputs": [],
   "source": [
    "inteiros_entre_a_b(A, 7, 5, 7)'\n"
   ]
  }
 ],
 "metadata": {
  "kernelspec": {
   "display_name": "Julia 1.6.6",
   "language": "julia",
   "name": "julia-1.6"
  },
  "language_info": {
   "file_extension": ".jl",
   "mimetype": "application/julia",
   "name": "julia",
   "version": "1.6.6"
  },
  "orig_nbformat": 4
 },
 "nbformat": 4,
 "nbformat_minor": 2
}
