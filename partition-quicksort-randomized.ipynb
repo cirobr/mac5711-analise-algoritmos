{
 "cells": [
  {
   "cell_type": "code",
   "execution_count": null,
   "metadata": {},
   "outputs": [],
   "source": [
    "using StatsBase\n",
    "using AnaliseAlgoritmos; aa=AnaliseAlgoritmos"
   ]
  },
  {
   "cell_type": "code",
   "execution_count": null,
   "metadata": {},
   "outputs": [],
   "source": [
    "# referência de ordenação\n",
    "function ref(X::Vector{Int})\n",
    "    v = sort(X)\n",
    "end"
   ]
  },
  {
   "cell_type": "code",
   "execution_count": null,
   "metadata": {},
   "outputs": [],
   "source": [
    "# teste partition\n",
    "vec  = [99, 33, 55, 77, 11, 22, 88, 66, 33, 44]\n",
    "resp = [33, 11, 22, 33, 44, 55, 88, 66, 77, 99]\n",
    "pivo = 5\n",
    "\n",
    "A = copy(vec)\n",
    "n = size(A)[1]\n",
    "\n",
    "x = aa.partition(A, 1, n)\n",
    "\n",
    "display(vec')\n",
    "display(x)\n",
    "display(A')\n",
    "println(\"partição correta: \", A == resp)\n",
    "println(\"pivô correto: \", x == pivo)"
   ]
  },
  {
   "cell_type": "code",
   "execution_count": null,
   "metadata": {},
   "outputs": [],
   "source": [
    "nTestes = 1000000\n",
    "ok = []\n",
    "for i in 1 : nTestes\n",
    "    N = rand(1:1000)\n",
    "    A = sample(1:2N, N, replace = false); X = copy(A)\n",
    "\n",
    "    aa.quicksort(X, 1, N)\n",
    "\n",
    "    push!( ok, X == ref(A) )\n",
    "end\n",
    "println(\"testes aprovados: \", sum(ok) == nTestes)"
   ]
  },
  {
   "cell_type": "code",
   "execution_count": null,
   "metadata": {},
   "outputs": [],
   "source": [
    "nTestes = 1000000\n",
    "ok = []\n",
    "for i in 1 : nTestes\n",
    "    N = rand(1:1000)\n",
    "    A = sample(1:2N, N, replace = false); X = copy(A)\n",
    "\n",
    "    aa.randomized_quicksort(X, 1, N)\n",
    "\n",
    "    push!( ok, X == ref(A) )\n",
    "end\n",
    "println(\"testes aprovados: \", sum(ok) == nTestes)"
   ]
  }
 ],
 "metadata": {
  "kernelspec": {
   "display_name": "Julia 1.6.6",
   "language": "julia",
   "name": "julia-1.6"
  },
  "language_info": {
   "file_extension": ".jl",
   "mimetype": "application/julia",
   "name": "julia",
   "version": "1.6.6"
  },
  "orig_nbformat": 4
 },
 "nbformat": 4,
 "nbformat_minor": 2
}
