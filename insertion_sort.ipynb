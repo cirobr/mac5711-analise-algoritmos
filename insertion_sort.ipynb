{
 "cells": [
  {
   "cell_type": "code",
   "execution_count": null,
   "metadata": {},
   "outputs": [],
   "source": [
    "function insertion_sort(A)\n",
    "    n = size(A)[1]\n",
    "    for j in 2 : n\n",
    "        key = A[j]\n",
    "        i = j-1\n",
    "        while i >=1 && A[i] > key\n",
    "            A[i+1] = A[i]\n",
    "            i -= 1\n",
    "        end\n",
    "        A[i+1] = key\n",
    "        println(A)\n",
    "    end\n",
    "    return(A)\n",
    "end"
   ]
  },
  {
   "cell_type": "code",
   "execution_count": null,
   "metadata": {},
   "outputs": [],
   "source": [
    "A = [33; 55; 33; 44; 33; 22; 11; 99; 22; 55; 77]\n",
    "insertion_sort(A)'"
   ]
  }
 ],
 "metadata": {
  "kernelspec": {
   "display_name": "Julia 1.6.5",
   "language": "julia",
   "name": "julia-1.6"
  },
  "language_info": {
   "file_extension": ".jl",
   "mimetype": "application/julia",
   "name": "julia",
   "version": "1.6.5"
  },
  "orig_nbformat": 4
 },
 "nbformat": 4,
 "nbformat_minor": 2
}
