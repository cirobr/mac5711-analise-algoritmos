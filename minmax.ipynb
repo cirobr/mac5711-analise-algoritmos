{
 "cells": [
  {
   "cell_type": "code",
   "execution_count": 8,
   "metadata": {},
   "outputs": [
    {
     "data": {
      "text/plain": [
       "1×11 adjoint(::Vector{Int64}) with eltype Int64:\n",
       " 33  55  33  44  33  22  11  99  22  55  77"
      ]
     },
     "execution_count": 8,
     "metadata": {},
     "output_type": "execute_result"
    }
   ],
   "source": [
    "vec = [33; 55; 33; 44; 33; 22; 11; 99; 22; 55; 77]\n",
    "#vec = rand(1:100, 100000)\n",
    "vec'"
   ]
  },
  {
   "cell_type": "code",
   "execution_count": 14,
   "metadata": {},
   "outputs": [
    {
     "data": {
      "text/plain": [
       "99"
      ]
     },
     "execution_count": 14,
     "metadata": {},
     "output_type": "execute_result"
    }
   ],
   "source": [
    "function maximo(A)\n",
    "    m = 0\n",
    "    n = size(A)[1]\n",
    "    A = Float32.(A)\n",
    "\n",
    "    for i in 1:n\n",
    "        if A[i] > m\n",
    "            m = A[i]\n",
    "        end\n",
    "    end\n",
    "    return( Int(m) )\n",
    "end\n",
    "\n",
    "maximo(vec)"
   ]
  },
  {
   "cell_type": "code",
   "execution_count": 15,
   "metadata": {},
   "outputs": [
    {
     "data": {
      "text/plain": [
       "11"
      ]
     },
     "execution_count": 15,
     "metadata": {},
     "output_type": "execute_result"
    }
   ],
   "source": [
    "function minimo(A)\n",
    "    m = Inf\n",
    "    n = size(A)[1]\n",
    "    A = Float32.(A)   # necessário para comparação com Inf\n",
    "\n",
    "    for i in 1:n\n",
    "        if A[i] < m\n",
    "            m = A[i]\n",
    "        end\n",
    "    end\n",
    "    return( Int(m) )\n",
    "end\n",
    "\n",
    "minimo(vec)"
   ]
  }
 ],
 "metadata": {
  "kernelspec": {
   "display_name": "Julia 1.6.5",
   "language": "julia",
   "name": "julia-1.6"
  },
  "language_info": {
   "file_extension": ".jl",
   "mimetype": "application/julia",
   "name": "julia",
   "version": "1.6.6"
  },
  "orig_nbformat": 4
 },
 "nbformat": 4,
 "nbformat_minor": 2
}
