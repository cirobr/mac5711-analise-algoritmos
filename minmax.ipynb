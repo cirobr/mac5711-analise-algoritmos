{
 "cells": [
  {
   "cell_type": "code",
   "execution_count": null,
   "metadata": {},
   "outputs": [],
   "source": [
    "vec = [33, 55, 33, 44, 33, 22, 11, 99, 22, 55, 77]\n",
    "#vec = rand(1:100, 100000)\n",
    "vec'"
   ]
  },
  {
   "cell_type": "code",
   "execution_count": null,
   "metadata": {},
   "outputs": [],
   "source": [
    "# theta(n)\n",
    "function maxVec(A::Vector{Int})\n",
    "    m = 0\n",
    "    n = size(A)[1]\n",
    "\n",
    "    for i in 1:n\n",
    "        if A[i] > m\n",
    "            m = A[i]\n",
    "        end\n",
    "    end\n",
    "    return( m )\n",
    "end"
   ]
  },
  {
   "cell_type": "code",
   "execution_count": null,
   "metadata": {},
   "outputs": [],
   "source": [
    "# theta(n)\n",
    "function minVec(A::Vector{Float32})   # Float necessário para comparação com Inf\n",
    "    m = Inf\n",
    "    n = size(A)[1]\n",
    "\n",
    "    for i in 1:n\n",
    "        if A[i] < m\n",
    "            m = A[i]\n",
    "        end\n",
    "    end\n",
    "    return( Int(m) )\n",
    "end"
   ]
  },
  {
   "cell_type": "code",
   "execution_count": null,
   "metadata": {},
   "outputs": [],
   "source": [
    "display( maxVec(vec) )\n",
    "minVec( Float32.(vec) )"
   ]
  },
  {
   "cell_type": "code",
   "execution_count": null,
   "metadata": {},
   "outputs": [],
   "source": [
    "# mínimo entre a e b\n",
    "function min2(a::Int, b::Int)\n",
    "    a < b ? a : b\n",
    "end\n",
    "\n",
    "# máximo entre a e b\n",
    "function max2(a::Int, b::Int)\n",
    "    a > b ? a : b\n",
    "end"
   ]
  },
  {
   "cell_type": "code",
   "execution_count": null,
   "metadata": {},
   "outputs": [],
   "source": [
    "println(min2(25, 35), \" \",max2(25, 35))"
   ]
  }
 ],
 "metadata": {
  "kernelspec": {
   "display_name": "Julia 1.6.6",
   "language": "julia",
   "name": "julia-1.6"
  },
  "language_info": {
   "file_extension": ".jl",
   "mimetype": "application/julia",
   "name": "julia",
   "version": "1.6.6"
  },
  "orig_nbformat": 4
 },
 "nbformat": 4,
 "nbformat_minor": 2
}
