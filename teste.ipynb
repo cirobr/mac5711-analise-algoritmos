{
 "cells": [
  {
   "cell_type": "code",
   "execution_count": 40,
   "metadata": {},
   "outputs": [
    {
     "data": {
      "text/plain": [
       "1×11 adjoint(::Vector{Int64}) with eltype Int64:\n",
       " 33  55  33  44  33  22  11  99  22  55  77"
      ]
     },
     "metadata": {},
     "output_type": "display_data"
    }
   ],
   "source": [
    "vec = [33; 55; 33; 44; 33; 22; 11; 99; 22; 55; 77]\n",
    "# vec = rand(1:100, 100000)\n",
    "vec'"
   ]
  },
  {
   "cell_type": "code",
   "execution_count": 41,
   "metadata": {},
   "outputs": [
    {
     "data": {
      "text/plain": [
       "merge_sort (generic function with 2 methods)"
      ]
     },
     "metadata": {},
     "output_type": "display_data"
    }
   ],
   "source": [
    "# CLRS page 24\n",
    "function merge_sort(A, p, r)\n",
    "    if p < r   # == (r-p+1) > 1\n",
    "        q = floor( Int, (p+r)/2 )   # mid point q = p + (r-p+1)/2 ~ (p+r)/2\n",
    "        merge_sort(A, p, q)\n",
    "        merge_sort(A, q+1, r)\n",
    "        merge(A, p, q, r)\n",
    "    end\n",
    "    return(A)\n",
    "end"
   ]
  },
  {
   "cell_type": "code",
   "execution_count": 42,
   "metadata": {},
   "outputs": [
    {
     "data": {
      "text/plain": [
       "merge (generic function with 1 method)"
      ]
     },
     "metadata": {},
     "output_type": "display_data"
    }
   ],
   "source": [
    "# CLRS page 22\n",
    "function merge(A, p, q, r)\n",
    "    println(A[p:q], \" \", A[q+1:r])\n",
    "    n1 = q - p + 1\n",
    "    n2 = r - q                                 # r - (q+1) +1\n",
    "\n",
    "    L = [ A[p + i-1] for i in 1:n1 ]\n",
    "    R = [ A[q + j]   for j in 1:n2 ]           # (q+1) + (i-1)\n",
    "    push!(L, Inf)                              # sentinel to avoid comparison\n",
    "    push!(R, Inf)\n",
    "\n",
    "    i = 1\n",
    "    j = 1\n",
    "    for k in p:r\n",
    "        if L[i] <= R[j]\n",
    "            A[k] = L[i]\n",
    "            i += 1\n",
    "        else\n",
    "            A[k] = R[j]\n",
    "            j += 1\n",
    "        end\n",
    "    end\n",
    "end"
   ]
  },
  {
   "cell_type": "code",
   "execution_count": 43,
   "metadata": {},
   "outputs": [
    {
     "data": {
      "text/plain": [
       "1×11 adjoint(::Vector{Int64}) with eltype Int64:\n",
       " 11  22  22  33  33  33  44  55  55  77  99"
      ]
     },
     "metadata": {},
     "output_type": "display_data"
    },
    {
     "name": "stdout",
     "output_type": "stream",
     "text": [
      "[33.0] [55.0]\n",
      "[33.0, 55.0] [33.0]\n",
      "[44.0] [33.0]\n",
      "[33.0, 44.0] [22.0]\n",
      "[33.0, 33.0, 55.0] [22.0, 33.0, 44.0]\n",
      "[11.0] [99.0]\n",
      "[11.0, 99.0] [22.0]\n",
      "[55.0] [77.0]\n",
      "[11.0, 22.0, 99.0] [55.0, 77.0]\n",
      "[22.0, 33.0, 33.0, 33.0, 44.0, 55.0] [11.0, 22.0, 55.0, 77.0, 99.0]\n"
     ]
    },
    {
     "data": {
      "text/plain": [
       "0"
      ]
     },
     "metadata": {},
     "output_type": "display_data"
    }
   ],
   "source": [
    "A = Float64.(vec)\n",
    "n = size(A)[1]\n",
    "\n",
    "global invCount = 0\n",
    "merge_sort(A, 1, n)\n",
    "\n",
    "A = Int.(A)\n",
    "display(A')\n",
    "invCount"
   ]
  }
 ],
 "metadata": {
  "kernelspec": {
   "display_name": "Julia 1.6.6",
   "language": "julia",
   "name": "julia-1.6"
  },
  "language_info": {
   "file_extension": ".jl",
   "mimetype": "application/julia",
   "name": "julia",
   "version": "1.6.6"
  },
  "orig_nbformat": 4
 },
 "nbformat": 4,
 "nbformat_minor": 2
}
