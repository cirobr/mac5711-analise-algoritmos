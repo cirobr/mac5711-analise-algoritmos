{
 "cells": [
  {
   "cell_type": "code",
   "execution_count": 1,
   "metadata": {},
   "outputs": [
    {
     "data": {
      "text/plain": [
       "merge_sort (generic function with 1 method)"
      ]
     },
     "metadata": {},
     "output_type": "display_data"
    }
   ],
   "source": [
    "# CLRS page 24\n",
    "function merge_sort(listas, A, p, r, B)\n",
    "    if p < r   # == (r-p+1) > 1\n",
    "        q = floor( Int, (p+r)/2 )   # mid point q = p + (r-p+1)/2 ~ (p+r)/2\n",
    "        merge_sort(listas, A, p, q, B)\n",
    "        merge_sort(listas, A, q+1, r, B)\n",
    "        merge(listas, A, p, q, r, B)\n",
    "    end\n",
    "end"
   ]
  },
  {
   "cell_type": "code",
   "execution_count": 29,
   "metadata": {},
   "outputs": [
    {
     "data": {
      "text/plain": [
       "merge (generic function with 1 method)"
      ]
     },
     "metadata": {},
     "output_type": "display_data"
    }
   ],
   "source": [
    "function merge(listas, A, p, q, r, B)\n",
    "    L = reduce(vcat, listas[A[p:q]])\n",
    "    R = reduce(vcat, listas[A[q+1:r]])\n",
    "\n",
    "    push!(L, Inf)                              # sentinel to avoid comparison\n",
    "    push!(R, Inf)\n",
    "    println(L, R)\n",
    "\n",
    "#     i = 1\n",
    "#     j = 1\n",
    "#     for k in p:r\n",
    "#         if L[i] <= R[j]\n",
    "#             A[k] = L[i]\n",
    "#             i += 1\n",
    "#         else\n",
    "#             A[k] = R[j]\n",
    "#             j += 1\n",
    "#         end\n",
    "#     end\n",
    "end"
   ]
  },
  {
   "cell_type": "code",
   "execution_count": 38,
   "metadata": {},
   "outputs": [
    {
     "ename": "MethodError",
     "evalue": "MethodError: no method matching rand(::Type{Float64}, ::UnitRange{Int64}, ::Int64)\nClosest candidates are:\n  rand(::Type{X}, !Matched::Integer, ::Integer...) where X at /buildworker/worker/package_linux64/build/usr/share/julia/stdlib/v1.6/Random/src/Random.jl:292\n  rand(::Any, !Matched::Integer, ::Integer...) at /buildworker/worker/package_linux64/build/usr/share/julia/stdlib/v1.6/Random/src/Random.jl:283\n  rand(!Matched::Random.AbstractRNG, ::Any, ::Integer, !Matched::Integer...) at /buildworker/worker/package_linux64/build/usr/share/julia/stdlib/v1.6/Random/src/Random.jl:282\n  ...",
     "output_type": "error",
     "traceback": [
      "MethodError: no method matching rand(::Type{Float64}, ::UnitRange{Int64}, ::Int64)\n",
      "Closest candidates are:\n",
      "  rand(::Type{X}, !Matched::Integer, ::Integer...) where X at /buildworker/worker/package_linux64/build/usr/share/julia/stdlib/v1.6/Random/src/Random.jl:292\n",
      "  rand(::Any, !Matched::Integer, ::Integer...) at /buildworker/worker/package_linux64/build/usr/share/julia/stdlib/v1.6/Random/src/Random.jl:283\n",
      "  rand(!Matched::Random.AbstractRNG, ::Any, ::Integer, !Matched::Integer...) at /buildworker/worker/package_linux64/build/usr/share/julia/stdlib/v1.6/Random/src/Random.jl:282\n",
      "  ...\n",
      "\n",
      "Stacktrace:\n",
      "  [1] (::var\"#27#28\")(i::Int64)\n",
      "    @ Main ./none:0\n",
      "  [2] iterate\n",
      "    @ ./generator.jl:47 [inlined]\n",
      "  [3] collect(itr::Base.Generator{UnitRange{Int64}, var\"#27#28\"})\n",
      "    @ Base ./array.jl:681\n",
      "  [4] top-level scope\n",
      "    @ ~/projects/mac5711-analise-algoritmos-2/teste.ipynb:8\n",
      "  [5] eval\n",
      "    @ ./boot.jl:360 [inlined]\n",
      "  [6] include_string(mapexpr::typeof(REPL.softscope), mod::Module, code::String, filename::String)\n",
      "    @ Base ./loading.jl:1116\n",
      "  [7] #invokelatest#2\n",
      "    @ ./essentials.jl:708 [inlined]\n",
      "  [8] invokelatest\n",
      "    @ ./essentials.jl:706 [inlined]\n",
      "  [9] (::VSCodeServer.var\"#160#161\"{VSCodeServer.NotebookRunCellArguments, String})()\n",
      "    @ VSCodeServer ~/.vscode-server/extensions/julialang.language-julia-1.6.17/scripts/packages/VSCodeServer/src/serve_notebook.jl:19\n",
      " [10] withpath(f::VSCodeServer.var\"#160#161\"{VSCodeServer.NotebookRunCellArguments, String}, path::String)\n",
      "    @ VSCodeServer ~/.vscode-server/extensions/julialang.language-julia-1.6.17/scripts/packages/VSCodeServer/src/repl.jl:184\n",
      " [11] notebook_runcell_request(conn::VSCodeServer.JSONRPC.JSONRPCEndpoint{Base.PipeEndpoint, Base.PipeEndpoint}, params::VSCodeServer.NotebookRunCellArguments)\n",
      "    @ VSCodeServer ~/.vscode-server/extensions/julialang.language-julia-1.6.17/scripts/packages/VSCodeServer/src/serve_notebook.jl:13\n",
      " [12] dispatch_msg(x::VSCodeServer.JSONRPC.JSONRPCEndpoint{Base.PipeEndpoint, Base.PipeEndpoint}, dispatcher::VSCodeServer.JSONRPC.MsgDispatcher, msg::Dict{String, Any})\n",
      "    @ VSCodeServer.JSONRPC ~/.vscode-server/extensions/julialang.language-julia-1.6.17/scripts/packages/JSONRPC/src/typed.jl:67\n",
      " [13] serve_notebook(pipename::String, outputchannel_logger::Base.CoreLogging.SimpleLogger; crashreporting_pipename::String)\n",
      "    @ VSCodeServer ~/.vscode-server/extensions/julialang.language-julia-1.6.17/scripts/packages/VSCodeServer/src/serve_notebook.jl:136\n",
      " [14] top-level scope\n",
      "    @ ~/.vscode-server/extensions/julialang.language-julia-1.6.17/scripts/notebook/notebook.jl:32\n",
      " [15] include(mod::Module, _path::String)\n",
      "    @ Base ./Base.jl:384\n",
      " [16] exec_options(opts::Base.JLOptions)\n",
      "    @ Base ./client.jl:285\n",
      " [17] _start()\n",
      "    @ Base ./client.jl:485"
     ]
    }
   ],
   "source": [
    "# dados\n",
    "global n = 5       # qtd listas\n",
    "global k = 10      # tamanho das listas\n",
    "global N = n * k   # tamanho da lista unificada\n",
    "\n",
    "A = 1:n |> Vector\n",
    "\n",
    "listas = [sort!( rand(Float64, 1:100, k) ) for i in 1:n]\n",
    "display(listas)\n",
    "\n",
    "# teste\n",
    "B = Array{Float64}(undef, N)   # lista unificada\n",
    "\n",
    "\n",
    "\n",
    "\n",
    "merge_sort(listas, A, 1, n, B)\n",
    "\n",
    "# verificação\n",
    "ref(listas) = sort(reduce(vcat, listas))\n",
    "B == ref(listas)"
   ]
  }
 ],
 "metadata": {
  "kernelspec": {
   "display_name": "Julia 1.6.6",
   "language": "julia",
   "name": "julia-1.6"
  },
  "language_info": {
   "file_extension": ".jl",
   "mimetype": "application/julia",
   "name": "julia",
   "version": "1.6.6"
  },
  "orig_nbformat": 4
 },
 "nbformat": 4,
 "nbformat_minor": 2
}
