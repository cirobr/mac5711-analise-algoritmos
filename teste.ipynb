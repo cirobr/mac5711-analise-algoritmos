{
 "cells": [
  {
   "cell_type": "code",
   "execution_count": 4,
   "metadata": {},
   "outputs": [
    {
     "data": {
      "text/plain": [
       "mergeKlists (generic function with 1 method)"
      ]
     },
     "metadata": {},
     "output_type": "display_data"
    }
   ],
   "source": [
    "# CLRS page 24\n",
    "function mergeKlists(lists, p, r, output)\n",
    "    len = r - p + 1\n",
    "    if len > 1\n",
    "        q = floor( Int, (p+r)/2 )   # mid point q = p + (r-p+1)/2 ~ (p+r)/2\n",
    "        mergeKlists(lists, p, q, output)\n",
    "        mergeKlists(lists, q+1, r, output)\n",
    "        println(p, \" \", r)\n",
    "        # merge2lists(lists, p, r, output)\n",
    "    end\n",
    "end"
   ]
  },
  {
   "cell_type": "code",
   "execution_count": 5,
   "metadata": {},
   "outputs": [
    {
     "data": {
      "text/plain": [
       "merge2lists (generic function with 1 method)"
      ]
     },
     "metadata": {},
     "output_type": "display_data"
    }
   ],
   "source": [
    "function merge2lists(lists, p, r, output)\n",
    "    R = copy(lists[r])\n",
    "    if p == r\n",
    "        L = []\n",
    "    elseif r - p == 1\n",
    "        L = copy(lists[p])\n",
    "    else\n",
    "        println(\"oops\", p, \" \", r)\n",
    "        return\n",
    "    end\n",
    "\n",
    "    push!(L, Inf)                              # sentinel to avoid comparison\n",
    "    push!(R, Inf)\n",
    "\n",
    "    i = 1\n",
    "    j = 1\n",
    "    for m in 1 : 2k\n",
    "        if L[i] <= R[j]\n",
    "            output[m] = L[i]\n",
    "            i += 1\n",
    "        else\n",
    "            output[m] = R[j]\n",
    "            j += 1\n",
    "        end\n",
    "    end\n",
    "end"
   ]
  },
  {
   "cell_type": "code",
   "execution_count": 6,
   "metadata": {},
   "outputs": [
    {
     "name": "stdout",
     "output_type": "stream",
     "text": [
      "1 2\n",
      "1 3\n",
      "4 5\n",
      "1 5\n"
     ]
    },
    {
     "data": {
      "text/plain": [
       "false"
      ]
     },
     "metadata": {},
     "output_type": "display_data"
    }
   ],
   "source": [
    "# dados\n",
    "global N = 5     # qtd listas\n",
    "global k = 5      # tamanho das listas\n",
    "global n = N * k   # tamanho da lista unificada\n",
    "\n",
    "A = 1:N |> Vector\n",
    "\n",
    "vecs = [ sort!( rand(1.0:100.0, k) ) for i in 1:N ]\n",
    "lists = copy(vecs)\n",
    "\n",
    "# execução\n",
    "outputList = Array{Float64}(undef, n)   # lista unificada\n",
    "mergeKlists(lists, 1, N, outputList)\n",
    "\n",
    "# verificação\n",
    "ref(vecs) = sort(reduce(vcat, lists))\n",
    "outputList == ref(vecs)\n"
   ]
  }
 ],
 "metadata": {
  "kernelspec": {
   "display_name": "Julia 1.6.5",
   "language": "julia",
   "name": "julia-1.6"
  },
  "language_info": {
   "file_extension": ".jl",
   "mimetype": "application/julia",
   "name": "julia",
   "version": "1.6.5"
  },
  "orig_nbformat": 4
 },
 "nbformat": 4,
 "nbformat_minor": 2
}
