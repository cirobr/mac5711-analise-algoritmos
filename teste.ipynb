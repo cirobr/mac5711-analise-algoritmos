{
 "cells": [
  {
   "cell_type": "code",
   "execution_count": 17,
   "metadata": {},
   "outputs": [
    {
     "data": {
      "text/plain": [
       "mergeKlists (generic function with 1 method)"
      ]
     },
     "metadata": {},
     "output_type": "display_data"
    }
   ],
   "source": [
    "function mergeKlists(lists)\n",
    "    while size(lists)[1] > 1\n",
    "        output = []\n",
    "        for i in 1: 2: size(lists)[1]\n",
    "            if i+1 <= size(lists)[1]\n",
    "                out2lists = merge2lists(lists[i], lists[i+1])\n",
    "                push!(output, out2lists)\n",
    "            else\n",
    "                push!(output, lists[i])\n",
    "            end\n",
    "        end\n",
    "\n",
    "        lists = copy(output)\n",
    "    end\n",
    "    return(lists)\n",
    "end"
   ]
  },
  {
   "cell_type": "code",
   "execution_count": 18,
   "metadata": {},
   "outputs": [
    {
     "data": {
      "text/plain": [
       "merge2lists (generic function with 1 method)"
      ]
     },
     "metadata": {},
     "output_type": "display_data"
    }
   ],
   "source": [
    "function merge2lists(L, R)\n",
    "    outputSize = size(L)[1] + size(R)[1]\n",
    "    push!(L, Inf)   # sentinel to avoid comparison\n",
    "    push!(R, Inf)\n",
    "\n",
    "    i = 1\n",
    "    j = 1\n",
    "    outputList = []\n",
    "    for m in 1 : outputSize\n",
    "        if L[i] <= R[j]\n",
    "            push!(outputList, L[i])\n",
    "            i += 1\n",
    "        else\n",
    "            push!(outputList, R[j])\n",
    "            j += 1\n",
    "        end\n",
    "    end\n",
    "    return(outputList)\n",
    "end"
   ]
  },
  {
   "cell_type": "code",
   "execution_count": 3,
   "metadata": {},
   "outputs": [],
   "source": [
    "# # teste um dataset\n",
    "# lists = [   [30.0, 46.0, 78.0, 92.0, 99.0],\n",
    "#             [19.0, 34.0, 53.0, 63.0, 75.0],\n",
    "#             [2.0, 34.0, 40.0, 48.0, 56.0],\n",
    "#             [13.0, 23.0, 49.0, 66.0, 93.0],\n",
    "#             [7.0, 42.0, 67.0, 67.0, 78.0]   ]\n",
    "\n",
    "# mergeKlists(lists)[1]"
   ]
  },
  {
   "cell_type": "code",
   "execution_count": 24,
   "metadata": {},
   "outputs": [
    {
     "data": {
      "text/plain": [
       "25500-element Vector{Float64}:\n",
       "  1.0\n",
       "  1.0\n",
       "  1.0\n",
       "  1.0\n",
       "  1.0\n",
       "  1.0\n",
       "  1.0\n",
       "  1.0\n",
       "  1.0\n",
       "  1.0\n",
       "  ⋮\n",
       " Inf\n",
       " Inf\n",
       " Inf\n",
       " Inf\n",
       " Inf\n",
       " Inf\n",
       " Inf\n",
       " Inf\n",
       " Inf"
      ]
     },
     "metadata": {},
     "output_type": "display_data"
    }
   ],
   "source": [
    "# dados\n",
    "N = 500     # qtd listas\n",
    "k = 50      # tamanho das listas\n",
    "n = N * k   # tamanho da lista unificada\n",
    "\n",
    "vecs = [ sort!( rand(1.0:100.0, k) ) for i in 1:N ]\n",
    "lists = copy(vecs)\n",
    "\n",
    "# execução\n",
    "res = mergeKlists(lists)[1]\n",
    "\n",
    "# verificação\n",
    "f(v) = sort(reduce(vcat, v))\n",
    "ver = f(lists)\n",
    "# res == ver[1:25000]"
   ]
  },
  {
   "cell_type": "code",
   "execution_count": 21,
   "metadata": {},
   "outputs": [
    {
     "data": {
      "text/plain": [
       "((25000,), (25500,))"
      ]
     },
     "metadata": {},
     "output_type": "display_data"
    }
   ],
   "source": [
    "size(res), size(ver)"
   ]
  },
  {
   "cell_type": "code",
   "execution_count": 22,
   "metadata": {},
   "outputs": [
    {
     "data": {
      "text/plain": [
       "true"
      ]
     },
     "metadata": {},
     "output_type": "display_data"
    }
   ],
   "source": [
    "lists==vecs"
   ]
  },
  {
   "cell_type": "code",
   "execution_count": 27,
   "metadata": {},
   "outputs": [
    {
     "data": {
      "text/plain": [
       "500-element Vector{Vector{Float64}}:\n",
       " [3.0, 5.0, 10.0, 12.0, 14.0, 17.0, 17.0, 18.0, 19.0, 21.0  …  79.0, 81.0, 82.0, 94.0, 94.0, 96.0, 96.0, 99.0, 99.0, Inf]\n",
       " [2.0, 4.0, 5.0, 8.0, 9.0, 10.0, 11.0, 11.0, 12.0, 12.0  …  83.0, 84.0, 84.0, 89.0, 90.0, 92.0, 92.0, 99.0, 99.0, Inf]\n",
       " [7.0, 7.0, 8.0, 10.0, 11.0, 12.0, 13.0, 15.0, 15.0, 15.0  …  84.0, 88.0, 89.0, 90.0, 90.0, 92.0, 93.0, 97.0, 100.0, Inf]\n",
       " [1.0, 1.0, 2.0, 3.0, 4.0, 6.0, 6.0, 11.0, 12.0, 13.0  …  84.0, 84.0, 85.0, 86.0, 88.0, 91.0, 93.0, 96.0, 96.0, Inf]\n",
       " [1.0, 3.0, 7.0, 16.0, 19.0, 20.0, 20.0, 20.0, 21.0, 22.0  …  89.0, 91.0, 94.0, 96.0, 96.0, 97.0, 98.0, 99.0, 100.0, Inf]\n",
       " [4.0, 8.0, 9.0, 9.0, 10.0, 11.0, 13.0, 26.0, 27.0, 30.0  …  94.0, 94.0, 95.0, 96.0, 97.0, 98.0, 100.0, 100.0, 100.0, Inf]\n",
       " [1.0, 2.0, 5.0, 7.0, 7.0, 8.0, 9.0, 9.0, 10.0, 13.0  …  85.0, 85.0, 88.0, 90.0, 90.0, 92.0, 93.0, 94.0, 98.0, Inf]\n",
       " [1.0, 5.0, 6.0, 6.0, 7.0, 9.0, 9.0, 10.0, 12.0, 12.0  …  82.0, 86.0, 87.0, 94.0, 96.0, 97.0, 100.0, 100.0, 100.0, Inf]\n",
       " [1.0, 3.0, 6.0, 7.0, 8.0, 15.0, 16.0, 17.0, 20.0, 24.0  …  87.0, 87.0, 88.0, 88.0, 89.0, 97.0, 98.0, 98.0, 100.0, Inf]\n",
       " [1.0, 2.0, 3.0, 3.0, 6.0, 8.0, 12.0, 14.0, 19.0, 20.0  …  79.0, 80.0, 80.0, 87.0, 88.0, 91.0, 98.0, 99.0, 99.0, Inf]\n",
       " ⋮\n",
       " [1.0, 3.0, 12.0, 14.0, 16.0, 18.0, 19.0, 20.0, 22.0, 23.0  …  80.0, 82.0, 86.0, 89.0, 91.0, 93.0, 99.0, 99.0, 99.0, Inf]\n",
       " [2.0, 4.0, 5.0, 7.0, 10.0, 13.0, 15.0, 15.0, 17.0, 18.0  …  93.0, 93.0, 94.0, 96.0, 97.0, 98.0, 98.0, 99.0, 100.0, Inf]\n",
       " [2.0, 3.0, 4.0, 5.0, 9.0, 12.0, 13.0, 14.0, 17.0, 22.0  …  77.0, 77.0, 82.0, 82.0, 86.0, 87.0, 88.0, 91.0, 97.0, Inf]\n",
       " [1.0, 6.0, 10.0, 11.0, 13.0, 14.0, 14.0, 15.0, 19.0, 19.0  …  81.0, 86.0, 88.0, 93.0, 93.0, 97.0, 97.0, 97.0, 100.0, Inf]\n",
       " [1.0, 4.0, 5.0, 7.0, 8.0, 11.0, 13.0, 17.0, 22.0, 25.0  …  78.0, 79.0, 80.0, 82.0, 85.0, 87.0, 90.0, 92.0, 94.0, Inf]\n",
       " [1.0, 2.0, 3.0, 20.0, 20.0, 27.0, 27.0, 28.0, 34.0, 40.0  …  94.0, 95.0, 96.0, 97.0, 97.0, 97.0, 98.0, 98.0, 98.0, Inf]\n",
       " [1.0, 2.0, 4.0, 7.0, 10.0, 10.0, 12.0, 15.0, 20.0, 20.0  …  87.0, 87.0, 87.0, 88.0, 92.0, 96.0, 97.0, 100.0, 100.0, Inf]\n",
       " [3.0, 9.0, 11.0, 12.0, 12.0, 18.0, 18.0, 21.0, 22.0, 23.0  …  84.0, 88.0, 89.0, 90.0, 92.0, 95.0, 95.0, 95.0, 99.0, Inf]\n",
       " [3.0, 4.0, 6.0, 10.0, 14.0, 16.0, 22.0, 24.0, 24.0, 25.0  …  78.0, 78.0, 88.0, 89.0, 90.0, 92.0, 93.0, 93.0, 97.0, Inf]"
      ]
     },
     "metadata": {},
     "output_type": "display_data"
    }
   ],
   "source": [
    "vecs"
   ]
  }
 ],
 "metadata": {
  "kernelspec": {
   "display_name": "Julia 1.6.5",
   "language": "julia",
   "name": "julia-1.6"
  },
  "language_info": {
   "file_extension": ".jl",
   "mimetype": "application/julia",
   "name": "julia",
   "version": "1.6.5"
  },
  "orig_nbformat": 4
 },
 "nbformat": 4,
 "nbformat_minor": 2
}
