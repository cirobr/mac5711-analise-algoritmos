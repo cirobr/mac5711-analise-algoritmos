{
 "cells": [
  {
   "cell_type": "code",
   "execution_count": 53,
   "metadata": {},
   "outputs": [
    {
     "data": {
      "text/plain": [
       "mergeKlists (generic function with 1 method)"
      ]
     },
     "metadata": {},
     "output_type": "display_data"
    }
   ],
   "source": [
    "function mergeKlists(lists, p, r, output)\n",
    "    # println(\"k-lists\", p, \" \", r)\n",
    "    len = r - p + 1\n",
    "    if len > 2\n",
    "        q = floor( Int, (p+r)/2 )   # mid point q = p + (r-p+1)/2 ~ (p+r)/2\n",
    "        mergeKlists(lists, p, q, output)\n",
    "        mergeKlists(lists, q+1, r, output)\n",
    "        merge2lists(lists, p, q, r, output)\n",
    "    end\n",
    "    \n",
    "    return(output)\n",
    "end"
   ]
  },
  {
   "cell_type": "code",
   "execution_count": 100,
   "metadata": {},
   "outputs": [
    {
     "data": {
      "text/plain": [
       "merge2lists (generic function with 2 methods)"
      ]
     },
     "metadata": {},
     "output_type": "display_data"
    }
   ],
   "source": [
    "function merge2lists(lists, p, q, r, output)\n",
    "    println(\"2-lists: \", p, \" \", r)\n",
    "    if p < q\n",
    "        L = reduce(vcat, lists[p:q])\n",
    "        R = reduce(vcat, lists[q+1:r])\n",
    "        outputSize = size(L)[1] + size(R)[1]\n",
    "    elseif p == q\n",
    "        L = copy(lists[p:q])\n",
    "        R = []\n",
    "        outputSize = size(L)[1]\n",
    "    else\n",
    "        println(\"oops...\")\n",
    "        return\n",
    "    end\n",
    "\n",
    "    # push!(L, Inf)   # sentinel to avoid comparison\n",
    "    # push!(R, Inf)\n",
    "\n",
    "    # i = 1\n",
    "    # j = 1\n",
    "    # for t in p:r\n",
    "    #     for u in 1:k\n",
    "    #         m = (t - 1) * k + u                # to scan all list elements within lists p:r\n",
    "\n",
    "    #         if L[i] <= R[j]\n",
    "    #             output[m]   = L[i]\n",
    "    #             lists[t][u] = L[i]\n",
    "    #             i += 1\n",
    "    #         else\n",
    "    #             output[m]   = R[j]\n",
    "    #             lists[t][u] = R[i]\n",
    "    #             j += 1\n",
    "    #         end\n",
    "    #     end\n",
    "    # end\n",
    "    return(output)\n",
    "end"
   ]
  },
  {
   "cell_type": "code",
   "execution_count": 101,
   "metadata": {},
   "outputs": [
    {
     "name": "stdout",
     "output_type": "stream",
     "text": [
      "2-lists: 1 2\n"
     ]
    },
    {
     "data": {
      "text/plain": [
       "10-element Vector{Float64}:\n",
       " 5.0e-324\n",
       " 6.9378066523215e-310\n",
       " 5.0e-324\n",
       " 6.93780665232545e-310\n",
       " 5.0e-324\n",
       " 6.9378066523294e-310\n",
       " 5.0e-324\n",
       " 6.93780665233335e-310\n",
       " 5.0e-324\n",
       " 6.9378066523373e-310"
      ]
     },
     "metadata": {},
     "output_type": "display_data"
    }
   ],
   "source": [
    "# teste merge2lists\n",
    "global N = 5     # qtd listas\n",
    "global k = 5      # tamanho das listas\n",
    "global n = N * k   # tamanho da lista unificada\n",
    "\n",
    "lists = [   [30.0, 46.0, 78.0, 92.0, 99.0],\n",
    "            [19.0, 34.0, 53.0, 63.0, 75.0],\n",
    "            [2.0, 34.0, 40.0, 48.0, 56.0],\n",
    "            [13.0, 23.0, 49.0, 66.0, 93.0],\n",
    "            [7.0, 42.0, 67.0, 67.0, 78.0]   ]\n",
    "\n",
    "output = Array{Float64}(undef, n);\n",
    "merge2lists(lists, 1, 1, 2, output)[1:10]\n",
    "# mergeKlists(lists, 1, N, output)"
   ]
  },
  {
   "cell_type": "code",
   "execution_count": 66,
   "metadata": {},
   "outputs": [
    {
     "data": {
      "text/plain": [
       "15"
      ]
     },
     "metadata": {},
     "output_type": "display_data"
    }
   ],
   "source": [
    "x=reduce(vcat, lists[1:3])\n",
    "size(x)[1]"
   ]
  }
 ],
 "metadata": {
  "kernelspec": {
   "display_name": "Julia 1.6.5",
   "language": "julia",
   "name": "julia-1.6"
  },
  "language_info": {
   "file_extension": ".jl",
   "mimetype": "application/julia",
   "name": "julia",
   "version": "1.6.5"
  },
  "orig_nbformat": 4
 },
 "nbformat": 4,
 "nbformat_minor": 2
}
