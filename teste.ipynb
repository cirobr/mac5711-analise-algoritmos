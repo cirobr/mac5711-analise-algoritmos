{
 "cells": [
  {
   "cell_type": "code",
   "execution_count": 1,
   "metadata": {},
   "outputs": [
    {
     "data": {
      "text/plain": [
       "elemento2 (generic function with 1 method)"
      ]
     },
     "metadata": {},
     "output_type": "display_data"
    }
   ],
   "source": [
    "function min2(a::Int, b::Int)\n",
    "    a < b ? a : b\n",
    "end\n",
    "\n",
    "function max2(a::Int, b::Int)\n",
    "    a > b ? a : b\n",
    "end\n",
    "\n",
    "function elemento2(v::Vector{Int})\n",
    "    vaux = sort(v)\n",
    "    size(vaux)[1] > 2 ? vaux[2] : vaux[1]\n",
    "end"
   ]
  },
  {
   "cell_type": "code",
   "execution_count": 2,
   "metadata": {},
   "outputs": [
    {
     "data": {
      "text/plain": [
       "partition (generic function with 1 method)"
      ]
     },
     "metadata": {},
     "output_type": "display_data"
    }
   ],
   "source": [
    "# CLRS page 124\n",
    "# theta(n)\n",
    "function partition(A::Vector{Int}, p::Int, r::Int)\n",
    "    x = A[r]                # x é o pivô, último elemento entre p:r\n",
    "    i = p-1                 # i inicializa como imediatemente anterior a p\n",
    "    for j in p : r-1        # varredura entre p até antes do pivô\n",
    "        if A[j] <= x        # compara A[j] com o pivô\n",
    "            i += 1          # avança i, evita problema com inicialização i=0 (quando p=1)\n",
    "            swap(A, i, j)   # A[i] <-> A[j]\n",
    "        end\n",
    "    end\n",
    "    swap(A, i+1, r)         # A[i+1] <-> A[r]   swap do pivô, que não entrou no loop for\n",
    "\n",
    "    return(i+1)\n",
    "end"
   ]
  },
  {
   "cell_type": "code",
   "execution_count": 3,
   "metadata": {},
   "outputs": [
    {
     "data": {
      "text/plain": [
       "randomized_partition (generic function with 1 method)"
      ]
     },
     "metadata": {},
     "output_type": "display_data"
    }
   ],
   "source": [
    "# CLRS page 130\n",
    "# theta(n)\n",
    "function randomized_partition(A::Vector{Int}, p::Int, r::Int)\n",
    "    i = rand(p:r)            # sorteia elemento i entre p:r\n",
    "    swap(A, r, i)            # A[r] <-> A[i]\n",
    "    partition(A, p, r)       # retorna o pivô q\n",
    "end"
   ]
  },
  {
   "cell_type": "code",
   "execution_count": 4,
   "metadata": {},
   "outputs": [
    {
     "data": {
      "text/plain": [
       "median2vectors (generic function with 1 method)"
      ]
     },
     "metadata": {},
     "output_type": "display_data"
    }
   ],
   "source": [
    "function median2vectors(X::Vector{Int}, p, q, Y::Vector{Int}, r, s)\n",
    "    # X = [Xp, ..., Xq]\n",
    "    # Y = [Yr, ..., Ys]\n",
    "    # println(X[p:q], \" \", Y[r:s])\n",
    "    \n",
    "    aMedian = 0\n",
    "    n = floor(Int, size(X)[1]/2)\n",
    "    mX = ceil(Int, n/2)\n",
    "    mY = ceil(Int, n/2)\n",
    "    mX < mY ? left=true : left=false\n",
    "\n",
    "    if left\n",
    "        pX =  ceil(Int,(p+q)/2)\n",
    "        pY = floor(Int,(r+s)/2)\n",
    "    else\n",
    "        pX =  ceil(Int, (r+s)/2)\n",
    "        pY = floor(Int, (p+q)/2)\n",
    "    end\n",
    " \n",
    "    if q > p+1\n",
    "        if left\n",
    "            median2vectors(X, pX, q, Y, r, pY)\n",
    "        else\n",
    "            median2vectors(Y, pY, s, X, p, pY)\n",
    "        end\n",
    "    else \n",
    "        # aMedian = achar segundo menor elemento de um vetor [v1..v4]\n",
    "        aMedian = elemento2( vcat(X[p:q], Y[r:s]))   # complexidade O(4)\n",
    "        return(aMedian)\n",
    "    end\n",
    "end"
   ]
  },
  {
   "cell_type": "code",
   "execution_count": 5,
   "metadata": {},
   "outputs": [],
   "source": [
    "# X = [2, 3]\n",
    "# Y = [1, 4]\n",
    "\n",
    "# if size(X)[1] != size(Y)[1]\n",
    "#     println(\"oops..\")\n",
    "# else\n",
    "#     N = size(X)[1]\n",
    "#     m = median2vectors(X, 1, N, Y, 1, N)\n",
    "#     println(\"mediana: \", m)\n",
    "# end"
   ]
  },
  {
   "cell_type": "code",
   "execution_count": 6,
   "metadata": {},
   "outputs": [
    {
     "data": {
      "text/plain": [
       "ref (generic function with 1 method)"
      ]
     },
     "metadata": {},
     "output_type": "display_data"
    }
   ],
   "source": [
    "function ref(X, Y)\n",
    "    N = size(X)[1]\n",
    "    v = sort( vcat(X,Y) )\n",
    "    res = (v[N], v[N+1])\n",
    "end"
   ]
  },
  {
   "cell_type": "code",
   "execution_count": 26,
   "metadata": {},
   "outputs": [
    {
     "data": {
      "text/plain": [
       "66"
      ]
     },
     "metadata": {},
     "output_type": "display_data"
    }
   ],
   "source": [
    "nTestes = 100\n",
    "ok = []\n",
    "for i in 1 : nTestes\n",
    "    N = rand(1:10)\n",
    "    X = sort( rand(1:10, N-1) )\n",
    "    X = vcat([1], X)\n",
    "    Y = sort( rand(1:10, N-1) )\n",
    "    Y = vcat([1], Y)\n",
    "\n",
    "    m = median2vectors(X, 1, N, Y, 1, N)\n",
    "    push!( ok, m in ref(X,Y) )\n",
    "end\n",
    "sum(ok)\n"
   ]
  }
 ],
 "metadata": {
  "kernelspec": {
   "display_name": "Julia 1.6.6",
   "language": "julia",
   "name": "julia-1.6"
  },
  "language_info": {
   "file_extension": ".jl",
   "mimetype": "application/julia",
   "name": "julia",
   "version": "1.6.6"
  },
  "orig_nbformat": 4
 },
 "nbformat": 4,
 "nbformat_minor": 2
}
