{
 "cells": [
  {
   "cell_type": "markdown",
   "metadata": {},
   "source": [
    "#### Funções auxiliares"
   ]
  },
  {
   "cell_type": "code",
   "execution_count": 1,
   "metadata": {},
   "outputs": [
    {
     "data": {
      "text/plain": [
       "mediana (generic function with 1 method)"
      ]
     },
     "metadata": {},
     "output_type": "display_data"
    }
   ],
   "source": [
    "# mínimo entre a e b\n",
    "function min2(a::Int, b::Int)\n",
    "    a < b ? a : b\n",
    "end\n",
    "\n",
    "# máximo entre a e b\n",
    "function max2(a::Int, b::Int)\n",
    "    a > b ? a : b\n",
    "end\n",
    "\n",
    "# devolve as coordenadas da mediana do vetor A[p...r] em uma tupla\n",
    "function medianCoordinates(p::Int, r::Int)\n",
    "    (floor(Int, (p+r)/2), ceil(Int, (p+r)/2))\n",
    "end\n",
    "\n",
    "# função caixa-preta, cálculo de mediana\n",
    "function sortedMedian(A, p, r)\n",
    "    vec = sort(A)\n",
    "    p   = medianCoordinates(p, r)[1]\n",
    "    return(vec[p])\n",
    "end"
   ]
  },
  {
   "cell_type": "code",
   "execution_count": 2,
   "metadata": {},
   "outputs": [
    {
     "data": {
      "text/plain": [
       "partition (generic function with 1 method)"
      ]
     },
     "metadata": {},
     "output_type": "display_data"
    }
   ],
   "source": [
    "# A[i] <-> A[j]\n",
    "# theta(1)\n",
    "function swap(A::Vector{Int}, i::Int, j::Int)\n",
    "    temp = A[i]\n",
    "    A[i] = A[j]\n",
    "    A[j] = temp\n",
    "end\n",
    "\n",
    "# CLRS page 124\n",
    "# theta(n)\n",
    "function partition(A::Vector{Int}, p::Int, r::Int)\n",
    "    x = A[r]                # x é o pivô, último elemento entre p:r\n",
    "    i = p-1                 # i inicializa como imediatemente anterior a p\n",
    "    for j in p : r-1        # varredura entre p até antes do pivô\n",
    "        if A[j] <= x        # compara A[j] com o pivô\n",
    "            i += 1          # avança i, evita problema com inicialização i=0 (quando p=1)\n",
    "            swap(A, i, j)   # A[i] <-> A[j]\n",
    "        end\n",
    "    end\n",
    "    swap(A, i+1, r)         # A[i+1] <-> A[r]   swap do pivô, que não entrou no loop for\n",
    "\n",
    "    return(i+1)\n",
    "end"
   ]
  },
  {
   "cell_type": "markdown",
   "metadata": {},
   "source": [
    "#### Função principal"
   ]
  },
  {
   "cell_type": "code",
   "execution_count": 3,
   "metadata": {},
   "outputs": [
    {
     "data": {
      "text/plain": [
       "k_menor (generic function with 1 method)"
      ]
     },
     "metadata": {},
     "output_type": "display_data"
    }
   ],
   "source": [
    "function k_menor(A::Vector{Int}, p::Int, r::Int, k::Int)\n",
    "    println(A, \" \", p, \" \", r, \" \", k)\n",
    "    if r-p+1 > 2\n",
    "        medianPointer = medianCoordinates(p, r)[1]\n",
    "        medianNumber  = sortedMedian(A, p, r)\n",
    "\n",
    "        if medianPointer == k  return(medianNumber)  end\n",
    "\n",
    "        \n",
    "\n",
    "    else\n",
    "        println(\"no else: \", A, \" \", p, \" \", r, \" \", k)\n",
    "        medianNumber  = (A[p], A[r])\n",
    "        return(medianNumber)\n",
    "    end\n",
    "end"
   ]
  },
  {
   "cell_type": "markdown",
   "metadata": {},
   "source": [
    "#### Verificação do algoritmo"
   ]
  },
  {
   "cell_type": "code",
   "execution_count": 4,
   "metadata": {},
   "outputs": [
    {
     "data": {
      "text/plain": [
       "ref (generic function with 1 method)"
      ]
     },
     "metadata": {},
     "output_type": "display_data"
    }
   ],
   "source": [
    "# funçao referência\n",
    "function ref(X::Vector{Int}, k::Int)\n",
    "    N = size(X)[1]\n",
    "    v = sort( X )\n",
    "    res = v[k]\n",
    "end"
   ]
  },
  {
   "cell_type": "code",
   "execution_count": 5,
   "metadata": {},
   "outputs": [
    {
     "name": "stdout",
     "output_type": "stream",
     "text": [
      "[3, 20, 19, 19, 20, 5, 2, 2, 12, 1] 1 10 4\n",
      "[3, 20, 19, 19, 1, 5, 2, 2, 12, 20] 4 5 4\n",
      "no else: [3, 20, 19, 19, 1, 5, 2, 2, 12, 20] 4 5 4\n",
      "testes aprovados: "
     ]
    },
    {
     "name": "stdout",
     "output_type": "stream",
     "text": [
      "0\n"
     ]
    }
   ],
   "source": [
    "# verificação do cálculo do k-ésimo contra a referência\n",
    "nTestes = 1 #100000\n",
    "ok = []\n",
    "for i in 1 : nTestes\n",
    "    N = 10 #rand(1:10) #1000)\n",
    "    k = rand(1:N)\n",
    "    A = rand(1:2*N, N)\n",
    "\n",
    "    res = k_menor(A, 1, N, k)\n",
    "    push!( ok, ref(A, k) in res)\n",
    "end\n",
    "println(\"testes aprovados: \", sum(ok)) # == nTestes)\n",
    "# println(\"resultado:  \", res)\n",
    "# println(\"referência: \", ref(A, k))\n"
   ]
  }
 ],
 "metadata": {
  "kernelspec": {
   "display_name": "Julia 1.6.6",
   "language": "julia",
   "name": "julia-1.6"
  },
  "language_info": {
   "file_extension": ".jl",
   "mimetype": "application/julia",
   "name": "julia",
   "version": "1.6.6"
  },
  "orig_nbformat": 4
 },
 "nbformat": 4,
 "nbformat_minor": 2
}
