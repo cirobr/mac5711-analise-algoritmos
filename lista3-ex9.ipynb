{
 "cells": [
  {
   "cell_type": "code",
   "execution_count": 15,
   "metadata": {},
   "outputs": [],
   "source": [
    "using StatsBase"
   ]
  },
  {
   "cell_type": "markdown",
   "metadata": {},
   "source": [
    "#### Funções auxiliares"
   ]
  },
  {
   "cell_type": "code",
   "execution_count": 16,
   "metadata": {},
   "outputs": [
    {
     "data": {
      "text/plain": [
       "medianCoordinates (generic function with 1 method)"
      ]
     },
     "metadata": {},
     "output_type": "display_data"
    }
   ],
   "source": [
    "# mínimo entre a e b\n",
    "function min2(a::Int, b::Int)\n",
    "    a < b ? a : b\n",
    "end\n",
    "\n",
    "# máximo entre a e b\n",
    "function max2(a::Int, b::Int)\n",
    "    a > b ? a : b\n",
    "end\n",
    "\n",
    "# segundo menor elemento de um vetor\n",
    "# slides aula 6, pág 22\n",
    "# complexidade theta(n)\n",
    "# complexidade theta(4) = constante para esta aplicação\n",
    "function segundo_menor(v::Vector{Int})\n",
    "    menor    = min2(v[1], v[2])\n",
    "    segmenor = max2(v[1], v[2])\n",
    "    n = size(v)[1]\n",
    "    for k in 3:n\n",
    "        if v[k] < menor\n",
    "            segmenor = menor\n",
    "            menor = v[k]\n",
    "        elseif v[k] < segmenor\n",
    "            segmenor = v[k]\n",
    "        end\n",
    "    end\n",
    "    return(segmenor)\n",
    "end\n",
    "\n",
    "# devolve as coordenadas da mediana do vetor A[p...r] em uma tupla\n",
    "function medianCoordinates(p::Int, r::Int)\n",
    "    (floor(Int, (p+r)/2), ceil(Int, (p+r)/2))\n",
    "end"
   ]
  },
  {
   "cell_type": "code",
   "execution_count": 17,
   "metadata": {},
   "outputs": [
    {
     "data": {
      "text/plain": [
       "median_partition (generic function with 1 method)"
      ]
     },
     "metadata": {},
     "output_type": "display_data"
    }
   ],
   "source": [
    "# A[i] <-> A[j]\n",
    "# theta(1)\n",
    "function swap(A::Vector{Int}, i::Int, j::Int)\n",
    "    temp = A[i]\n",
    "    A[i] = A[j]\n",
    "    A[j] = temp\n",
    "end\n",
    "\n",
    "# CLRS page 124\n",
    "# theta(n)\n",
    "function partition(A::Vector{Int}, p::Int, r::Int)\n",
    "    x = A[r]                # x é o pivô, último elemento entre p:r\n",
    "    i = p-1                 # i inicializa como imediatemente anterior a p\n",
    "    for j in p : r-1        # varredura entre p até antes do pivô\n",
    "        if A[j] <= x        # compara A[j] com o pivô\n",
    "            i += 1          # avança i, evita problema com inicialização i=0 (quando p=1)\n",
    "            swap(A, i, j)   # A[i] <-> A[j]\n",
    "        end\n",
    "    end\n",
    "    swap(A, i+1, r)         # A[i+1] <-> A[r]   swap do pivô, que não entrou no loop for\n",
    "\n",
    "    return(i+1)\n",
    "end\n",
    "\n",
    "# CLRS page 130\n",
    "function randomized_partition(A::Vector{Int}, p::Int, r::Int)\n",
    "    i = rand(p:r)            # sorteia elemento i entre p:r\n",
    "    swap(A, r, i)            # A[r] <-> A[i]\n",
    "    partition(A, p, r)       # retorna o pivô q\n",
    "end\n",
    "\n",
    "function medianValue(A::Vector{Int})\n",
    "    n = size(A)[1]\n",
    "    medianPosition = floor(Int, n/2)\n",
    "    res = sort(A)[medianPosition]\n",
    "end\n",
    "\n",
    "# theta(n)\n",
    "function median_partition(A::Vector{Int}, p::Int, r::Int)\n",
    "    local mp\n",
    "    for i in p:r\n",
    "        if A[i] == medianValue(A[p:r])\n",
    "            mp = i\n",
    "            break\n",
    "        end\n",
    "    end\n",
    "    swap(A, r, mp)                      # swap da mediana com o último elemento\n",
    "    partition(A, p, r)\n",
    "end"
   ]
  },
  {
   "cell_type": "markdown",
   "metadata": {},
   "source": [
    "#### Função principal"
   ]
  },
  {
   "cell_type": "code",
   "execution_count": 18,
   "metadata": {},
   "outputs": [
    {
     "data": {
      "text/plain": [
       "kmenor (generic function with 1 method)"
      ]
     },
     "metadata": {},
     "output_type": "display_data"
    }
   ],
   "source": [
    "# Base: Randomized Select\n",
    "# CLRS page 157\n",
    "function kmenor(A, p, r, k)\n",
    "    if r == p                           # base da recursão\n",
    "        res = A[p]\n",
    "        return(res)\n",
    "    end\n",
    "    \n",
    "    q = median_partition(A, p, r)\n",
    "    len = q-p+1\n",
    "\n",
    "    if k == len                         # k == q\n",
    "        res = A[q]\n",
    "        return(res)\n",
    "    elseif k < len                      # k entre p:q-1\n",
    "        res = kmenor(A, p, q-1, k)\n",
    "        return(res)\n",
    "    elseif k > len                      # k entre q+1:r\n",
    "        res = kmenor(A, q+1, r, k-len)\n",
    "        return(res)\n",
    "    end\n",
    "end"
   ]
  },
  {
   "cell_type": "markdown",
   "metadata": {},
   "source": [
    "#### Verificação do algoritmo"
   ]
  },
  {
   "cell_type": "code",
   "execution_count": 19,
   "metadata": {},
   "outputs": [
    {
     "data": {
      "text/plain": [
       "ref (generic function with 1 method)"
      ]
     },
     "metadata": {},
     "output_type": "display_data"
    }
   ],
   "source": [
    "# funçao referência para o cálculo do k menor\n",
    "function ref(X::Vector{Int}, k::Int)\n",
    "    v = sort(X)\n",
    "    res = v[k]\n",
    "end"
   ]
  },
  {
   "cell_type": "code",
   "execution_count": 20,
   "metadata": {},
   "outputs": [
    {
     "name": "stdout",
     "output_type": "stream",
     "text": [
      "testes aprovados: true\n"
     ]
    }
   ],
   "source": [
    "# verificação do cálculo do k-ésimo contra a referência\n",
    "nTestes = 1000000\n",
    "ok = []\n",
    "for i in 1 : nTestes\n",
    "    N = rand(1:10)\n",
    "    A = sample(1:2N, N, replace = false)\n",
    "    k = rand(1:N)\n",
    "\n",
    "    km = kmenor(A, 1, N, k)\n",
    "    push!( ok, km == ref(A, k) )\n",
    "end\n",
    "println(\"testes aprovados: \", sum(ok) == nTestes)\n"
   ]
  }
 ],
 "metadata": {
  "kernelspec": {
   "display_name": "Julia 1.6.6",
   "language": "julia",
   "name": "julia-1.6"
  },
  "language_info": {
   "file_extension": ".jl",
   "mimetype": "application/julia",
   "name": "julia",
   "version": "1.6.6"
  },
  "orig_nbformat": 4
 },
 "nbformat": 4,
 "nbformat_minor": 2
}
