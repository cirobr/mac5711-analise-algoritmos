{
 "cells": [
  {
   "cell_type": "code",
   "execution_count": null,
   "metadata": {},
   "outputs": [],
   "source": [
    "function counting_sort(A::Vector{Int}, k::Int)\n",
    "    n = size(A)[1]\n",
    "    B = zeros(Int, n)\n",
    "    C = zeros(Int, k)                           # k valor máximo de elemento contido em A\n",
    "    println(A, \" \", B, \" \", C)\n",
    "    \n",
    "    for j in 1:n\n",
    "        C[ A[j] ] += 1\n",
    "        println(A, \" \", B, \" \", C) \n",
    "    end\n",
    "    \n",
    "    for i in 2:k\n",
    "        C[i] = C[i] + C[i-1]\n",
    "        println(A, \" \", B, \" \", C)\n",
    "    end\n",
    "    \n",
    "    for j in n : -1 : 1\n",
    "        B[ C[ A[j] ] ] = A[j]                   # estabilidade do counting_sort\n",
    "        C[ A[j] ]      = C[ A[j] ] - 1\n",
    "        println(A, \" \", B, \" \", C)\n",
    "    end\n",
    "    \n",
    "    return B\n",
    "end"
   ]
  },
  {
   "cell_type": "code",
   "execution_count": null,
   "metadata": {},
   "outputs": [],
   "source": [
    "A = [6, 0, 2, 0, 1, 3, 4, 6, 1, 3, 2]\n",
    "k = 6"
   ]
  },
  {
   "cell_type": "code",
   "execution_count": null,
   "metadata": {},
   "outputs": [],
   "source": [
    "println(\" A                                 B                                 C\")\n",
    "println(A)\n",
    "X = A .+ 1\n",
    "println(X)\n",
    "B = counting_sort(X, 7)\n",
    "B .-= 1\n",
    "println(B)"
   ]
  }
 ],
 "metadata": {
  "kernelspec": {
   "display_name": "Julia 1.6.6",
   "language": "julia",
   "name": "julia-1.6"
  },
  "language_info": {
   "file_extension": ".jl",
   "mimetype": "application/julia",
   "name": "julia",
   "version": "1.6.6"
  },
  "orig_nbformat": 4
 },
 "nbformat": 4,
 "nbformat_minor": 2
}
