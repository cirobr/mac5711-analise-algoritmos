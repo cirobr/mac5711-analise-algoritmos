{
 "cells": [
  {
   "cell_type": "code",
   "execution_count": null,
   "metadata": {},
   "outputs": [],
   "source": [
    "using StatsBase"
   ]
  },
  {
   "cell_type": "code",
   "execution_count": null,
   "metadata": {},
   "outputs": [],
   "source": [
    "# funçao referência para o cálculo do k menor\n",
    "function ref(X::Vector{Int}, k::Int)\n",
    "    v = sort(X)\n",
    "    res = v[k]\n",
    "end"
   ]
  },
  {
   "cell_type": "code",
   "execution_count": null,
   "metadata": {},
   "outputs": [],
   "source": [
    "# A[i] <-> A[j]\n",
    "# theta(3)\n",
    "function swap(A::Vector{Int}, i::Int, j::Int)\n",
    "    temp = A[i]\n",
    "    A[i] = A[j]\n",
    "    A[j] = temp\n",
    "end"
   ]
  },
  {
   "cell_type": "code",
   "execution_count": null,
   "metadata": {},
   "outputs": [],
   "source": [
    "# CLRS page 124\n",
    "# theta(n)\n",
    "function partition(A::Vector{Int}, p::Int, r::Int)\n",
    "    x = A[r]                # x é o pivô, último elemento entre p:r\n",
    "    i = p-1                 # i inicializa como imediatemente anterior a p\n",
    "    for j in p : r-1        # varredura entre p até antes do pivô\n",
    "        if A[j] <= x        # compara A[j] com o pivô\n",
    "            i += 1          # avança i, evita problema com inicialização i=0 (quando p=1)\n",
    "            swap(A, i, j)   # A[i] <-> A[j]\n",
    "        end\n",
    "    end\n",
    "    swap(A, i+1, r)         # A[i+1] <-> A[r]   swap do pivô, que não entrou no loop for\n",
    "\n",
    "    return(i+1)\n",
    "end\n",
    "\n",
    "# CLRS page 130\n",
    "function randomized_partition(A::Vector{Int}, p::Int, r::Int)\n",
    "    i = rand(p:r)            # sorteia elemento i entre p:r\n",
    "    swap(A, r, i)            # A[r] <-> A[i]\n",
    "    partition(A, p, r)       # retorna o pivô q\n",
    "end"
   ]
  },
  {
   "cell_type": "code",
   "execution_count": null,
   "metadata": {},
   "outputs": [],
   "source": [
    "# CLRS page 157\n",
    "# theta(n) average case\n",
    "function randomized_select(A, p, r, k)\n",
    "    if p == r                           # base da recursão\n",
    "        res = A[p]\n",
    "        return(res)\n",
    "    end\n",
    "    \n",
    "    q = randomized_partition(A, p, r)\n",
    "    l = q-p+1\n",
    "\n",
    "    if k == l                           # k == q\n",
    "        res = A[q]\n",
    "        return(res)\n",
    "    elseif k < l                        # k entre p:q-1\n",
    "        res = randomized_select(A, p, q-1, k)\n",
    "        return(res)\n",
    "    elseif k > l                        # k entre q+1:r\n",
    "        res = randomized_select(A, q+1, r, k-l)\n",
    "        return(res)\n",
    "    end\n",
    "end"
   ]
  },
  {
   "cell_type": "code",
   "execution_count": null,
   "metadata": {},
   "outputs": [],
   "source": [
    "# testes\n",
    "nTestes = 1000000\n",
    "ok = []\n",
    "for i in 1 : nTestes\n",
    "    N = rand(1:1000)\n",
    "    A = sample(1:2N, N, replace = false)\n",
    "    k = rand(1:N)\n",
    "\n",
    "    res = randomized_select(A, 1, N, k)\n",
    "\n",
    "    push!( ok, res == ref(A, k) )\n",
    "end\n",
    "println(\"testes aprovados: \", sum(ok) == nTestes)"
   ]
  }
 ],
 "metadata": {
  "kernelspec": {
   "display_name": "Julia 1.6.6",
   "language": "julia",
   "name": "julia-1.6"
  },
  "language_info": {
   "file_extension": ".jl",
   "mimetype": "application/julia",
   "name": "julia",
   "version": "1.6.6"
  },
  "orig_nbformat": 4
 },
 "nbformat": 4,
 "nbformat_minor": 2
}
