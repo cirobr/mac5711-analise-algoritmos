{
 "cells": [
  {
   "cell_type": "markdown",
   "metadata": {},
   "source": [
    "#### Setup"
   ]
  },
  {
   "cell_type": "code",
   "execution_count": null,
   "metadata": {},
   "outputs": [],
   "source": [
    "using StatsBase\n",
    "include(\"./heapsort.jl\")"
   ]
  },
  {
   "cell_type": "code",
   "execution_count": null,
   "metadata": {},
   "outputs": [],
   "source": [
    "# referência de ordenação\n",
    "function ref(X::Vector{Int})\n",
    "    v = sort(X)\n",
    "end"
   ]
  },
  {
   "cell_type": "markdown",
   "metadata": {},
   "source": [
    "#### 6.2 manutenção da prioridade de heap"
   ]
  },
  {
   "cell_type": "code",
   "execution_count": null,
   "metadata": {},
   "outputs": [],
   "source": [
    "# teste max_heapify\n",
    "vec = [13, 46, 17, 34, 41, 15, 14, 23, 30, 21, 10, 12]\n",
    "A = copy(vec)\n",
    "m = size(A)[1]\n",
    "\n",
    "max_heapify(A, m, 1)\n",
    "A'\n",
    "# res = [46, 41, 17, 34, 21, 15, 14, 23, 30, 13, 10, 12]\n",
    "# println(\"max_heapify aprovado: \", A == res)"
   ]
  },
  {
   "cell_type": "markdown",
   "metadata": {},
   "source": [
    "#### 6.3 construção de heap"
   ]
  },
  {
   "cell_type": "code",
   "execution_count": null,
   "metadata": {},
   "outputs": [],
   "source": [
    "# teste build_max_heap\n",
    "vec = [14, 13, 34, 17, 15, 10, 46, 23, 12, 41, 30, 21]\n",
    "A = copy(vec)\n",
    "n = size(A)[1]\n",
    "\n",
    "build_max_heap(A, n)\n",
    "\n",
    "res = [46, 41, 34, 23, 30, 21, 14, 17, 12, 15, 13, 10]\n",
    "println(\"build_max_heap aprovado: \", A == res)"
   ]
  },
  {
   "cell_type": "markdown",
   "metadata": {},
   "source": [
    "#### 6.4 Algoritmo de ordenação por heap"
   ]
  },
  {
   "cell_type": "code",
   "execution_count": null,
   "metadata": {},
   "outputs": [],
   "source": [
    "# teste heapsort\n",
    "nTestes = 1000000\n",
    "ok = []\n",
    "for i in 1 : nTestes\n",
    "    N = rand(1:1000)\n",
    "    A = sample(1:2N, N, replace = false); X = copy(A)\n",
    "\n",
    "    heapsort(X, N)\n",
    "\n",
    "    push!( ok, X == ref(A) )\n",
    "end\n",
    "println(\"heapsort aprovado: \", sum(ok) == nTestes)"
   ]
  },
  {
   "cell_type": "markdown",
   "metadata": {},
   "source": [
    "#### 6.5 Filas de prioridade"
   ]
  },
  {
   "cell_type": "code",
   "execution_count": null,
   "metadata": {},
   "outputs": [],
   "source": [
    "vec = [14, 13, 34, 17, 15, 10, 46, 23, 12, 41, 30, 21]\n",
    "n = size(vec)[1]\n",
    "println(\"Original: \", vec')\n",
    "\n",
    "A = Float32.(vec)\n",
    "build_max_heap(A, n)\n",
    "heapsize = copy(n)\n",
    "println(\"Heap:     \", Int.(A)', \" \", heapsize)\n",
    "\n",
    "heapsize = max_heap_insert(A, heapsize, 22)\n",
    "println(\"Insert:   \", Int.(A)', \" \", heapsize)\n",
    "\n",
    "heapsize = max_heap_insert(A, heapsize, 50)\n",
    "println(\"Insert:   \", Int.(A)', \" \", heapsize)\n",
    "\n",
    "max, heapsize = heap_extract_max(A, heapsize)\n",
    "println(\"Extract:  \", Int.(A)', \" \", heapsize)\n"
   ]
  }
 ],
 "metadata": {
  "kernelspec": {
   "display_name": "Julia 1.6.6",
   "language": "julia",
   "name": "julia-1.6"
  },
  "language_info": {
   "file_extension": ".jl",
   "mimetype": "application/julia",
   "name": "julia",
   "version": "1.6.6"
  },
  "orig_nbformat": 4
 },
 "nbformat": 4,
 "nbformat_minor": 2
}
