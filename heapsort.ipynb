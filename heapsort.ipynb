{
 "cells": [
  {
   "cell_type": "code",
   "execution_count": null,
   "metadata": {},
   "outputs": [],
   "source": [
    "using StatsBase\n",
    "include(\"./algoritmos.jl\")"
   ]
  },
  {
   "cell_type": "code",
   "execution_count": null,
   "metadata": {},
   "outputs": [],
   "source": [
    "# referência de ordenação\n",
    "function ref(X::Vector{Int})\n",
    "    v = sort(X)\n",
    "end"
   ]
  },
  {
   "cell_type": "code",
   "execution_count": null,
   "metadata": {},
   "outputs": [],
   "source": [
    "# CLRS page 112 max_heapify\n",
    "# T(h) <= T(h-1) + theta(1)\n",
    "# T(h) = O(h) ~ O( lg(m) )\n",
    "function desce_heap(A::Vector{Int}, m::Int, i::Int)\n",
    "    # println(A)\n",
    "    e = 2i\n",
    "    d = 2i+1\n",
    "    maior = ( ( e <= m && A[e] > A[i] ) ? e : i )\n",
    "    if d <= m && A[d] > A[maior]   maior = d   end\n",
    "    if maior != i\n",
    "        swap(A, i, maior)\n",
    "        desce_heap(A, m, maior)\n",
    "    end\n",
    "end"
   ]
  },
  {
   "cell_type": "code",
   "execution_count": null,
   "metadata": {},
   "outputs": [],
   "source": [
    "# teste desce_heap\n",
    "vec = [13, 46, 17, 34, 41, 15, 14, 23, 30, 21, 10, 12]\n",
    "A = copy(vec)\n",
    "m = size(A)[1]\n",
    "\n",
    "desce_heap(A, m, 1)\n",
    "\n",
    "res = [46, 41, 17, 34, 21, 15, 14, 23, 30, 13, 10, 12]\n",
    "println(\"desce_heap aprovado: \", A == res)"
   ]
  },
  {
   "cell_type": "code",
   "execution_count": null,
   "metadata": {},
   "outputs": [],
   "source": [
    "# CLRS page 114\n",
    "function build_max_heap(A::Vector{Int}, n::Int)\n",
    "    med = medians(1, n)[1]   # floor n/2\n",
    "    for i in med : -1 : 1\n",
    "        desce_heap(A, n, i)\n",
    "    end\n",
    "end"
   ]
  },
  {
   "cell_type": "code",
   "execution_count": null,
   "metadata": {},
   "outputs": [],
   "source": [
    "# teste build_max_heap\n",
    "vec = [14, 13, 34, 17, 15, 10, 46, 23, 12, 41, 30, 21]\n",
    "A = copy(vec)\n",
    "n = size(A)[1]\n",
    "\n",
    "build_max_heap(A, n)\n",
    "\n",
    "res = [46, 41, 34, 23, 30, 21, 14, 17, 12, 15, 13, 10]\n",
    "println(\"build_max_heap aprovado: \", A == res)"
   ]
  },
  {
   "cell_type": "code",
   "execution_count": null,
   "metadata": {},
   "outputs": [],
   "source": [
    "# 6.4 Algoritmo de ordenação por heap, CLRS pag 116\n",
    "# ordenação crescente\n",
    "function heapsort(A, n)\n",
    "    build_max_heap(A, n)             # pré-processamento: cria um max heap\n",
    "    heapSize = copy(n)               # controle de processamento dos elementos do heap\n",
    "    for i in n : -1 : 2    \n",
    "        swap(A, 1, i)                # max_heap = último elemento da lista\n",
    "        heapSize -= 1\n",
    "        desce_heap(A, heapSize, 1)   # heap desfeito pelo swap, então refaz o heap entre 1 : heapSize\n",
    "    end\n",
    "end"
   ]
  },
  {
   "cell_type": "code",
   "execution_count": null,
   "metadata": {},
   "outputs": [],
   "source": [
    "# teste heapsort\n",
    "nTestes = 1000000\n",
    "ok = []\n",
    "for i in 1 : nTestes\n",
    "    N = rand(1:1000)\n",
    "    A = sample(1:2N, N, replace = false); X = copy(A)\n",
    "\n",
    "    heapsort(X, N)\n",
    "\n",
    "    push!( ok, X == ref(A) )\n",
    "end\n",
    "println(\"heapsort aprovado: \", sum(ok) == nTestes)"
   ]
  }
 ],
 "metadata": {
  "kernelspec": {
   "display_name": "Julia 1.6.6",
   "language": "julia",
   "name": "julia-1.6"
  },
  "language_info": {
   "file_extension": ".jl",
   "mimetype": "application/julia",
   "name": "julia",
   "version": "1.6.6"
  },
  "orig_nbformat": 4
 },
 "nbformat": 4,
 "nbformat_minor": 2
}
