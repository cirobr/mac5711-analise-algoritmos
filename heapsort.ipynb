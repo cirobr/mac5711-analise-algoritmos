{
 "cells": [
  {
   "cell_type": "code",
   "execution_count": null,
   "metadata": {},
   "outputs": [],
   "source": [
    "using StatsBase\n",
    "include(\"./algoritmos.jl\")"
   ]
  },
  {
   "cell_type": "code",
   "execution_count": null,
   "metadata": {},
   "outputs": [],
   "source": [
    "# CLRS page 112 max_heapify\n",
    "# T(h) <= T(h-1) + theta(1)\n",
    "# T(h) = O(h) ~ O( lg(m) )\n",
    "function desce_heap(A::Vector{Int}, m::Int, i::Int)\n",
    "    # println(A)\n",
    "    e = 2i\n",
    "    d = 2i+1\n",
    "    maior = ( ( e <= m && A[e] > A[i] ) ? e : i )\n",
    "    if d <= m && A[d] > A[maior]   maior = d   end\n",
    "    if maior != i\n",
    "        swap(A, i, maior)\n",
    "        desce_heap(A, m, maior)\n",
    "    end\n",
    "end"
   ]
  },
  {
   "cell_type": "code",
   "execution_count": null,
   "metadata": {},
   "outputs": [],
   "source": [
    "# teste desce_heap\n",
    "vec = [13, 46, 17, 34, 41, 15, 14, 23, 30, 21, 10, 12]\n",
    "A = copy(vec)\n",
    "m = size(A)[1]\n",
    "\n",
    "desce_heap(A, m, 1)\n",
    "\n",
    "res = [46, 41, 17, 34, 21, 15, 14, 23, 30, 13, 10, 12]\n",
    "println(\"desce_heap aprovado: \", A == res)"
   ]
  },
  {
   "cell_type": "code",
   "execution_count": null,
   "metadata": {},
   "outputs": [],
   "source": [
    "# CLRS page 114\n",
    "function build_max_heap(A::Vector{Int}, n::Int)\n",
    "    med = medians(1, n)[1]   # floor n/2\n",
    "    for i in med : -1 : 1\n",
    "        desce_heap(A, n, i)\n",
    "    end\n",
    "end"
   ]
  },
  {
   "cell_type": "code",
   "execution_count": null,
   "metadata": {},
   "outputs": [],
   "source": [
    "# teste build_max_heap\n",
    "vec = [14, 13, 34, 17, 15, 10, 46, 23, 12, 41, 30, 21]\n",
    "A = copy(vec)\n",
    "n = size(A)[1]\n",
    "\n",
    "build_max_heap(A, n)\n",
    "\n",
    "res = [46, 41, 34, 23, 30, 21, 14, 17, 12, 15, 13, 10]\n",
    "println(\"build_max_heap aprovado: \", A == res)"
   ]
  }
 ],
 "metadata": {
  "kernelspec": {
   "display_name": "Julia 1.6.6",
   "language": "julia",
   "name": "julia-1.6"
  },
  "language_info": {
   "file_extension": ".jl",
   "mimetype": "application/julia",
   "name": "julia",
   "version": "1.6.6"
  },
  "orig_nbformat": 4
 },
 "nbformat": 4,
 "nbformat_minor": 2
}
