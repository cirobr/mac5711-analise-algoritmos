{
 "cells": [
  {
   "cell_type": "markdown",
   "metadata": {},
   "source": [
    "#### Setup"
   ]
  },
  {
   "cell_type": "code",
   "execution_count": null,
   "metadata": {},
   "outputs": [],
   "source": [
    "using StatsBase\n",
    "include(\"./algoritmos.jl\")"
   ]
  },
  {
   "cell_type": "code",
   "execution_count": null,
   "metadata": {},
   "outputs": [],
   "source": [
    "const posInf = Int(2^(32-1)-1)\n",
    "const negInf = Int(-2^(32-1))"
   ]
  },
  {
   "cell_type": "code",
   "execution_count": null,
   "metadata": {},
   "outputs": [],
   "source": [
    "# referência de ordenação\n",
    "function ref(X::Vector{Int})\n",
    "    v = sort(X)\n",
    "end"
   ]
  },
  {
   "cell_type": "markdown",
   "metadata": {},
   "source": [
    "#### 6.2 manutenção da prioridade de heap"
   ]
  },
  {
   "cell_type": "code",
   "execution_count": null,
   "metadata": {},
   "outputs": [],
   "source": [
    "# CLRS page 112 (desce_heap)\n",
    "# assegura a propriedade de heap a partir do nó i inclusive\n",
    "# T(h) <= T(h-1) + theta(1)\n",
    "# T(h) = O(h) ~ O( lg(n) )\n",
    "function max_heapify(A::Vector, n::Int, i::Int)\n",
    "    # println(A)\n",
    "    e = 2i\n",
    "    d = 2i+1\n",
    "    maior = ( ( e <= n && A[e] > A[i] ) ? e : i )\n",
    "    if ( d <= n ) && ( A[d] > A[maior] )   maior = d   end\n",
    "    if maior != i\n",
    "        swap(A, i, maior)\n",
    "        max_heapify(A, n, maior)\n",
    "    end\n",
    "end"
   ]
  },
  {
   "cell_type": "code",
   "execution_count": null,
   "metadata": {},
   "outputs": [],
   "source": [
    "# teste max_heapify\n",
    "vec = [13, 46, 17, 34, 41, 15, 14, 23, 30, 21, 10, 12]\n",
    "A = copy(vec)\n",
    "m = size(A)[1]\n",
    "\n",
    "max_heapify(A, m, 1)\n",
    "\n",
    "res = [46, 41, 17, 34, 21, 15, 14, 23, 30, 13, 10, 12]\n",
    "println(\"max_heapify aprovado: \", A == res)"
   ]
  },
  {
   "cell_type": "markdown",
   "metadata": {},
   "source": [
    "#### 6.3 construção de heap"
   ]
  },
  {
   "cell_type": "code",
   "execution_count": null,
   "metadata": {},
   "outputs": [],
   "source": [
    "# CLRS page 114\n",
    "# constrói heap a partir de entrada não ordenada\n",
    "# O(n)\n",
    "function build_max_heap(A::Vector, n::Int)\n",
    "    med = medians(1, n)[1]   # floor n/2\n",
    "    for i in med : -1 : 1\n",
    "        max_heapify(A, n, i)\n",
    "    end\n",
    "end"
   ]
  },
  {
   "cell_type": "code",
   "execution_count": null,
   "metadata": {},
   "outputs": [],
   "source": [
    "# teste build_max_heap\n",
    "vec = [14, 13, 34, 17, 15, 10, 46, 23, 12, 41, 30, 21]\n",
    "A = copy(vec)\n",
    "n = size(A)[1]\n",
    "\n",
    "build_max_heap(A, n)\n",
    "\n",
    "res = [46, 41, 34, 23, 30, 21, 14, 17, 12, 15, 13, 10]\n",
    "println(\"build_max_heap aprovado: \", A == res)"
   ]
  },
  {
   "cell_type": "markdown",
   "metadata": {},
   "source": [
    "#### 6.4 Algoritmo de ordenação por heap"
   ]
  },
  {
   "cell_type": "code",
   "execution_count": null,
   "metadata": {},
   "outputs": [],
   "source": [
    "# Algoritmo de ordenação por heap, CLRS pag 116\n",
    "# ordenação crescente\n",
    "function heapsort(A::Vector, n::Int)\n",
    "    build_max_heap(A, n)              # pré-processamento: cria um max heap\n",
    "    heapsize = copy(n)                # controle de processamento dos elementos do heap\n",
    "    for i in n : -1 : 2    \n",
    "        swap(A, 1, i)                 # max_heap = último elemento da lista\n",
    "        heapsize -= 1\n",
    "        max_heapify(A, heapsize, 1)   # heap desfeito pelo swap, então refaz o heap entre 1 : heapSize\n",
    "    end\n",
    "end"
   ]
  },
  {
   "cell_type": "code",
   "execution_count": null,
   "metadata": {},
   "outputs": [],
   "source": [
    "# teste heapsort\n",
    "nTestes = 1 #000000\n",
    "ok = []\n",
    "for i in 1 : nTestes\n",
    "    N = rand(1:1000)\n",
    "    A = sample(1:2N, N, replace = false); X = copy(A)\n",
    "\n",
    "    heapsort(X, N)\n",
    "\n",
    "    push!( ok, X == ref(A) )\n",
    "end\n",
    "println(\"heapsort aprovado: \", sum(ok) == nTestes)"
   ]
  },
  {
   "cell_type": "markdown",
   "metadata": {},
   "source": [
    "#### 6.5 Filas de prioridade"
   ]
  },
  {
   "cell_type": "code",
   "execution_count": null,
   "metadata": {},
   "outputs": [],
   "source": [
    "# informa o maior valor dentre os elementos do heap\n",
    "# theta(1)\n",
    "heap_maximum(A::Vector) = A[1]"
   ]
  },
  {
   "cell_type": "code",
   "execution_count": null,
   "metadata": {},
   "outputs": [],
   "source": [
    "# extrai o valor max e refaz o heap\n",
    "# O(lg n)\n",
    "function heap_extract_max(A::Vector, heapsize::Int)\n",
    "    if heapsize < 1   return(\"heap underflow\")   end\n",
    "    max = A[1]\n",
    "    A[1] = A[heapsize]            # último elemento ocupa o topo do heap\n",
    "    heapsize -= 1\n",
    "    max_heapify(A, heapsize, 1)   # refaz o heap desde o topo até heapsize\n",
    "    \n",
    "    return(max, heapsize)\n",
    "end"
   ]
  },
  {
   "cell_type": "code",
   "execution_count": null,
   "metadata": {},
   "outputs": [],
   "source": [
    "parentNode(i) = floor(Int, i/2)\n",
    "\n",
    "# Substitui o valor de A[i] por k, desde que k seja > A[i]\n",
    "# O(lg n)\n",
    "function heap_increase_key(A::Vector, i::Int, k::Int)\n",
    "    if k < A[i]   return(\"new key smaller than current key\")   end\n",
    "    A[i] = k\n",
    "    while i > 1 && A[parentNode(i)] < A[i]   # refaz o heap recolocando k para um local acima na árvore\n",
    "        swap( A, i, parentNode(i) )\n",
    "        i = copy( parentNode(i) )\n",
    "    end\n",
    "end"
   ]
  },
  {
   "cell_type": "code",
   "execution_count": null,
   "metadata": {},
   "outputs": [],
   "source": [
    "# insere o valor k no heap A\n",
    "# O(lg n)\n",
    "function max_heap_insert(A::Vector{Float32}, heapsize::Int, k::Int)\n",
    "    heapsize += 1\n",
    "    if heapsize <= size(A)[1]\n",
    "        A[heapsize] = -Inf   # necessário A::Float32\n",
    "    else\n",
    "        push!(A, -Inf)\n",
    "    end\n",
    "    heap_increase_key(A, heapsize, k)\n",
    "    \n",
    "    return(heapsize)\n",
    "end"
   ]
  },
  {
   "cell_type": "code",
   "execution_count": null,
   "metadata": {},
   "outputs": [],
   "source": [
    "vec = [14, 13, 34, 17, 15, 10, 46, 23, 12, 41, 30, 21]\n",
    "n = size(vec)[1]\n",
    "println(\"Original: \", vec')\n",
    "\n",
    "A = Float32.(vec)\n",
    "build_max_heap(A, n)\n",
    "heapsize = copy(n)\n",
    "println(\"Heap:     \", Int.(A)', \" \", heapsize)\n",
    "\n",
    "heapsize = max_heap_insert(A, heapsize, 22)\n",
    "println(\"Insert    \", Int.(A)', \" \", heapsize)\n",
    "\n",
    "heapsize = max_heap_insert(A, heapsize, 50)\n",
    "println(\"Insert    \", Int.(A)', \" \", heapsize)\n",
    "\n",
    "max, heapsize = heap_extract_max(A, heapsize)\n",
    "println(\"Extract:  \", Int.(A)', \" \", heapsize)\n"
   ]
  }
 ],
 "metadata": {
  "kernelspec": {
   "display_name": "Julia 1.6.6",
   "language": "julia",
   "name": "julia-1.6"
  },
  "language_info": {
   "file_extension": ".jl",
   "mimetype": "application/julia",
   "name": "julia",
   "version": "1.6.6"
  },
  "orig_nbformat": 4
 },
 "nbformat": 4,
 "nbformat_minor": 2
}
