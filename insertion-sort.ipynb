{
 "cells": [
  {
   "cell_type": "code",
   "execution_count": null,
   "metadata": {},
   "outputs": [],
   "source": [
    "using StatsBase"
   ]
  },
  {
   "cell_type": "code",
   "execution_count": null,
   "metadata": {},
   "outputs": [],
   "source": [
    "# referência de ordenação\n",
    "function ref(X::Vector{Int})\n",
    "    v = sort(X)\n",
    "end"
   ]
  },
  {
   "cell_type": "code",
   "execution_count": null,
   "metadata": {},
   "outputs": [],
   "source": [
    "# CLRS page 12\n",
    "function insertion_sort(A::Vector{Int})\n",
    "    n = size(A)[1]                   # vector size\n",
    "    for j in 2 : n                   # scan from 2nd:last element\n",
    "        key = A[j]                   # store element in key\n",
    "        i = j-1                      # reference to previous element\n",
    "        while i >=1 && A[i] > key    # scan all previous\n",
    "            A[i+1] = A[i]            # shift right if greater than key\n",
    "            i -= 1\n",
    "        end\n",
    "        A[i+1] = key                 # insert key\n",
    "    end\n",
    "    return(A)\n",
    "end"
   ]
  },
  {
   "cell_type": "code",
   "execution_count": null,
   "metadata": {},
   "outputs": [],
   "source": [
    "nTestes = 100000\n",
    "ok = []\n",
    "for i in 1 : nTestes\n",
    "    N = rand(1:1000)\n",
    "    A = sample(1:2N, N, replace = false); X = copy(A)\n",
    "\n",
    "    insertion_sort(X)\n",
    "\n",
    "    push!( ok, X == ref(A) )\n",
    "end\n",
    "println(\"testes aprovados: \", sum(ok) == nTestes)"
   ]
  }
 ],
 "metadata": {
  "kernelspec": {
   "display_name": "Julia 1.6.6",
   "language": "julia",
   "name": "julia-1.6"
  },
  "language_info": {
   "file_extension": ".jl",
   "mimetype": "application/julia",
   "name": "julia",
   "version": "1.6.6"
  },
  "orig_nbformat": 4
 },
 "nbformat": 4,
 "nbformat_minor": 2
}
