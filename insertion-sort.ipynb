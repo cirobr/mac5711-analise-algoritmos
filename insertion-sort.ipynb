{
 "cells": [
  {
   "cell_type": "code",
   "execution_count": null,
   "metadata": {},
   "outputs": [],
   "source": [
    "# CLRS page 12\n",
    "function insertion_sort(A)\n",
    "    n = size(A)[1]                   # vector size\n",
    "    for j in 2 : n                   # scan from 2nd:last element\n",
    "        key = A[j]                   # store element in key\n",
    "        i = j-1                      # reference to previous element\n",
    "        while i >=1 && A[i] > key    # scan all previous\n",
    "            A[i+1] = A[i]            # shift right if greater than key\n",
    "            i -= 1\n",
    "        end\n",
    "        A[i+1] = key                 # insert key\n",
    "    end\n",
    "    return(A)\n",
    "end"
   ]
  },
  {
   "cell_type": "code",
   "execution_count": null,
   "metadata": {},
   "outputs": [],
   "source": [
    "# dados\n",
    "# vec = [33, 55, 33, 44, 33, 22, 11, 99, 22, 55, 77]; N = size(vec)[1]\n",
    "N = rand(1:100000); vec = rand(1:100, N)\n",
    "\n",
    "# teste\n",
    "display(vec')\n",
    "A = Float64.(vec)\n",
    "\n",
    "insertion_sort(A)\n",
    "\n",
    "A = Int.(A)\n",
    "display(A')\n",
    "\n",
    "# verificação\n",
    "println(\"Sort correto: \", A == sort(vec) )"
   ]
  }
 ],
 "metadata": {
  "kernelspec": {
   "display_name": "Julia 1.6.6",
   "language": "julia",
   "name": "julia-1.6"
  },
  "language_info": {
   "file_extension": ".jl",
   "mimetype": "application/julia",
   "name": "julia",
   "version": "1.6.6"
  },
  "orig_nbformat": 4
 },
 "nbformat": 4,
 "nbformat_minor": 2
}
