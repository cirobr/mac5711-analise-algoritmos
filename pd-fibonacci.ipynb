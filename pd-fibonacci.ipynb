{
 "cells": [
  {
   "cell_type": "code",
   "execution_count": null,
   "metadata": {},
   "outputs": [],
   "source": [
    "using OffsetArrays\n",
    "# OV = OffsetVector(V, 0:9)   # [1:10] -> [0:9]"
   ]
  },
  {
   "cell_type": "code",
   "execution_count": null,
   "metadata": {},
   "outputs": [],
   "source": [
    "function memoized_fibo(n::Int)\n",
    "    F = Vector{Int}(undef, n+1)            # cria lookup table F[1:n+1]\n",
    "    OF = OffsetVector(F, 0:n)              # offset índices [1:n+1] -> [0:n]\n",
    "    for i in 0:n                           # array comprehension não funciona com OffsetVector\n",
    "        OF[i] = -1\n",
    "    end\n",
    "    lookup_fibo(OF, n)                     # calcula Fibonacci com auxílio da tabela\n",
    "end"
   ]
  },
  {
   "cell_type": "code",
   "execution_count": null,
   "metadata": {},
   "outputs": [],
   "source": [
    "function lookup_fibo(F::OffsetVector, n::Int)\n",
    "    if F[n] >=0                            # se já foi calculado, simplesmente devolve\n",
    "        return F[n]\n",
    "    end\n",
    "\n",
    "    # calcula F[n], pois não está na tabela de lookup\n",
    "    if n <= 1\n",
    "        F[n] = n                           # guarda na tabela antes de devolver\n",
    "        return F[n]                        # devolve o valor\n",
    "    else\n",
    "        a = lookup_fibo(F, n-1)\n",
    "        b = lookup_fibo(F, n-2)\n",
    "        F[n] = a + b                       # guarda na tabela antes de devolver\n",
    "        return F[n]                        # devolve o valor\n",
    "    end\n",
    "end"
   ]
  },
  {
   "cell_type": "code",
   "execution_count": null,
   "metadata": {},
   "outputs": [],
   "source": [
    "ref = [0, 1, 1, 2, 3, 5, 8, 13, 21, 34]\n",
    "res = memoized_fibo.(0:9)\n",
    "display(res')\n",
    "res == ref"
   ]
  },
  {
   "cell_type": "code",
   "execution_count": null,
   "metadata": {},
   "outputs": [],
   "source": [
    "function fibo(n::Int)\n",
    "    F = Vector{Int}(undef, n+1)\n",
    "    F[1] = 0       # fibo[0]\n",
    "    F[2] = 1       # fibo[1]\n",
    "    for i in 2:n   # fibo 2 em diante\n",
    "        F[i+1] = F[i] + F[i-1]\n",
    "    end\n",
    "    return F[n+1]\n",
    "end"
   ]
  },
  {
   "cell_type": "code",
   "execution_count": null,
   "metadata": {},
   "outputs": [],
   "source": [
    "fibo(1000) == memoized_fibo(1000)"
   ]
  }
 ],
 "metadata": {
  "kernelspec": {
   "display_name": "Julia 1.6.6",
   "language": "julia",
   "name": "julia-1.6"
  },
  "language_info": {
   "file_extension": ".jl",
   "mimetype": "application/julia",
   "name": "julia",
   "version": "1.6.6"
  },
  "orig_nbformat": 4
 },
 "nbformat": 4,
 "nbformat_minor": 2
}
