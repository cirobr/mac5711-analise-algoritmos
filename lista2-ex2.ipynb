{
 "cells": [
  {
   "cell_type": "code",
   "execution_count": null,
   "metadata": {},
   "outputs": [],
   "source": [
    "function merge3(A, p, q1, q2, r)\n",
    "    n1 = q1-p+1\n",
    "    n2 = q2-q1\n",
    "    n3 = r-q2\n",
    "\n",
    "    H1 = [ A[p + i-1] for i in 1:n1 ]\n",
    "    H2 = [ A[q1 + j]  for j in 1:n2 ]\n",
    "    H3 = [ A[q2 + k]  for k in 1:n3 ]\n",
    "    push!(H1, Inf)                      # sentinela de final de vetor\n",
    "    push!(H2, Inf)\n",
    "    push!(H3, Inf)\n",
    "\n",
    "    i = 1\n",
    "    j = 1\n",
    "    k = 1\n",
    "    for m in p:r\n",
    "        h    = [ H1[i], H2[j], H3[k] ]\n",
    "        A[m] = minimum(h)\n",
    "        ind  = argmin(h)\n",
    "        \n",
    "        if ind == 1\n",
    "            i = i+1\n",
    "        elseif ind == 2\n",
    "            j = j+1\n",
    "        elseif ind == 3\n",
    "            k = k+1\n",
    "        end\n",
    "    end\n",
    "end"
   ]
  },
  {
   "cell_type": "code",
   "execution_count": null,
   "metadata": {},
   "outputs": [],
   "source": [
    "function merge_sort_3(A, p, r)\n",
    "    len = r - p + 1\n",
    "    if len > 1\n",
    "        sec = floor(len/3) |> Int   # 1/3 do vetor\n",
    "        q1 = p + sec\n",
    "        q2 = q1 + sec\n",
    "        merge_sort_3(A, p, q1)\n",
    "        merge_sort_3(A, q1+1, q2)\n",
    "        merge_sort_3(A, q2+1, r)\n",
    "        merge3(A, p, q1, q2, r)\n",
    "    end\n",
    "\n",
    "    return(A)\n",
    "end"
   ]
  },
  {
   "cell_type": "code",
   "execution_count": null,
   "metadata": {},
   "outputs": [],
   "source": [
    "# dados\n",
    "# vec = [33, 55, 33, 44, 33, 22, 11, 99, 22, 55, 77]; N = size(vec)[1]\n",
    "N = rand(1:100000); vec = rand(1:100, N)\n",
    "\n",
    "# teste\n",
    "display(vec')\n",
    "A = Float64.(vec)\n",
    "\n",
    "merge_sort_3(A, 1, N)\n",
    "A = Int.(A)\n",
    "\n",
    "display(A')\n",
    "\n",
    "# verificação\n",
    "println(\"Sort correto: \", A == sort(vec) )"
   ]
  }
 ],
 "metadata": {
  "kernelspec": {
   "display_name": "Julia 1.6.6",
   "language": "julia",
   "name": "julia-1.6"
  },
  "language_info": {
   "file_extension": ".jl",
   "mimetype": "application/julia",
   "name": "julia",
   "version": "1.6.6"
  },
  "orig_nbformat": 4
 },
 "nbformat": 4,
 "nbformat_minor": 2
}
