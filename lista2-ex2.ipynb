{
 "cells": [
  {
   "cell_type": "code",
   "execution_count": 27,
   "metadata": {},
   "outputs": [
    {
     "data": {
      "text/plain": [
       "1×11 adjoint(::Vector{Int64}) with eltype Int64:\n",
       " 33  55  33  44  33  22  11  99  22  55  77"
      ]
     },
     "execution_count": 27,
     "metadata": {},
     "output_type": "execute_result"
    }
   ],
   "source": [
    "vec = [33; 55; 33; 44; 33; 22; 11; 99; 22; 55; 77]\n",
    "#vec = rand(1:100, 100000)\n",
    "vec'"
   ]
  },
  {
   "cell_type": "code",
   "execution_count": 28,
   "metadata": {},
   "outputs": [
    {
     "data": {
      "text/plain": [
       "merge_sort (generic function with 1 method)"
      ]
     },
     "execution_count": 28,
     "metadata": {},
     "output_type": "execute_result"
    }
   ],
   "source": [
    "# CLRS page 22\n",
    "function merge(A, p, q, r)\n",
    "    n1 = q - p + 1\n",
    "    n2 = r - q                                 # r - (q+1) +1\n",
    "\n",
    "    L = [ A[p + i-1] for i in 1:n1 ]\n",
    "    R = [ A[q + j]   for j in 1:n2 ]           # (q+1) + (i-1)\n",
    "    push!(L, Inf)                              # sentinel to avoid comparison\n",
    "    push!(R, Inf)\n",
    "\n",
    "    i = 1\n",
    "    j = 1\n",
    "    for k in p:r\n",
    "        if L[i] <= R[j]\n",
    "            A[k] = L[i]\n",
    "            i += 1\n",
    "        else\n",
    "            A[k] = R[j]\n",
    "            j += 1\n",
    "        end\n",
    "    end\n",
    "end\n",
    "\n",
    "# CLRS page 24\n",
    "function merge_sort(A, p, r)\n",
    "    if p < r\n",
    "        q = floor( (p+r)/2 ) |> Int\n",
    "        merge_sort(A, p, q)\n",
    "        merge_sort(A, q+1, r)\n",
    "        merge(A, p, q, r)\n",
    "    end\n",
    "    return(A)\n",
    "end"
   ]
  },
  {
   "cell_type": "code",
   "execution_count": 29,
   "metadata": {},
   "outputs": [
    {
     "data": {
      "text/plain": [
       "1×11 adjoint(::Vector{Int64}) with eltype Int64:\n",
       " 11  22  22  33  33  33  44  55  55  77  99"
      ]
     },
     "execution_count": 29,
     "metadata": {},
     "output_type": "execute_result"
    }
   ],
   "source": [
    "A = Float64.(vec)\n",
    "n = size(A)[1]\n",
    "merge_sort(A, 1, n)\n",
    "A = Int.(A)\n",
    "A'"
   ]
  },
  {
   "cell_type": "code",
   "execution_count": 47,
   "metadata": {},
   "outputs": [
    {
     "data": {
      "text/plain": [
       "merge3 (generic function with 1 method)"
      ]
     },
     "execution_count": 47,
     "metadata": {},
     "output_type": "execute_result"
    }
   ],
   "source": [
    "function merge3(A, p, q1, q2, r)\n",
    "    n1 = q1-p+1\n",
    "    n2 = q2-q1\n",
    "    n3 = r-q2\n",
    "\n",
    "    H1 = [ A[p + i-1] for i in 1:n1 ]\n",
    "    H2 = [ A[q1 + j]  for j in 1:n2 ]\n",
    "    H3 = [ A[q2 + k]  for k in 1:n3 ]\n",
    "    push!(H1, Inf)                              # sentinela para evitar comparação\n",
    "    push!(H2, Inf)\n",
    "    push!(H3, Inf)\n",
    "\n",
    "    i = 1\n",
    "    j = 1\n",
    "    k = 1\n",
    "    for m in p:r\n",
    "        h    = [ H1[i], H2[j], H3[k] ]\n",
    "        A[m] = minimum(h)\n",
    "        ind  = argmin(h)\n",
    "        println(A[m], \"  \", h, \"  \", H1[i:n1+1], \"  \", H2[j:n2+1], \"  \", H3[k:n3+1])\n",
    "        \n",
    "        if ind == 1\n",
    "            i = i+1\n",
    "        elseif ind == 2\n",
    "            j = j+1\n",
    "        elseif ind == 3\n",
    "            k = k+1\n",
    "        else\n",
    "            println(\"oops\")\n",
    "        end\n",
    "    end\n",
    "end"
   ]
  },
  {
   "cell_type": "code",
   "execution_count": 48,
   "metadata": {},
   "outputs": [
    {
     "data": {
      "text/plain": [
       "merge_sort_3 (generic function with 1 method)"
      ]
     },
     "execution_count": 48,
     "metadata": {},
     "output_type": "execute_result"
    }
   ],
   "source": [
    "function merge_sort_3(A, p, r)\n",
    "    len = r - p + 1\n",
    "    if len >= 3\n",
    "        sec = floor(len/3) |> Int   # 1/3 do vetor\n",
    "        q1 = p + sec\n",
    "        q2 = q1 + sec\n",
    "        # println(p, \" \", q1, \" \", q2, \" \", r)\n",
    "        merge_sort_3(A, p, q1)\n",
    "        merge_sort_3(A, q1+1, q2)\n",
    "        merge_sort_3(A, q2+1, r)\n",
    "        merge3(A, p, q1, q2, r)\n",
    "    end\n",
    "\n",
    "    return(A)\n",
    "end"
   ]
  },
  {
   "cell_type": "code",
   "execution_count": 49,
   "metadata": {},
   "outputs": [
    {
     "data": {
      "text/plain": [
       "1×11 adjoint(::Vector{Int64}) with eltype Int64:\n",
       " 33  55  33  44  33  22  11  99  22  55  77"
      ]
     },
     "metadata": {},
     "output_type": "display_data"
    },
    {
     "name": "stdout",
     "output_type": "stream",
     "text": [
      "33.0  [33.0, 33.0, 44.0]  [33.0, 55.0, Inf]  [33.0, Inf]  [44.0, Inf]\n",
      "33.0  [55.0, 33.0, 44.0]  [55.0, Inf]  [33.0, Inf]  [44.0, Inf]\n",
      "44.0  [55.0, Inf, 44.0]  [55.0, Inf]  [Inf]  [44.0, Inf]\n",
      "55.0  [55.0, Inf, Inf]  [55.0, Inf]  [Inf]  [Inf]\n",
      "11.0  [33.0, 11.0, Inf]  [33.0, 22.0, Inf]  [11.0, Inf]  [Inf]\n",
      "33.0  [33.0, Inf, Inf]  [33.0, 22.0, Inf]  [Inf]  [Inf]\n",
      "22.0  [22.0, Inf, Inf]  [22.0, Inf]  [Inf]  [Inf]\n",
      "55.0  [99.0, 55.0, 77.0]  [99.0, 22.0, Inf]  [55.0, Inf]  [77.0, Inf]\n",
      "77.0  [99.0, Inf, 77.0]  [99.0, 22.0, Inf]  [Inf]  [77.0, Inf]\n",
      "99.0  [99.0, Inf, Inf]  [99.0, 22.0, Inf]  [Inf]  [Inf]\n",
      "22.0  [22.0, Inf, Inf]  [22.0, Inf]  [Inf]  [Inf]\n",
      "11.0  [33.0, 11.0, 55.0]  [33.0, 33.0, 44.0, 55.0, Inf]  [11.0, 33.0, 22.0, Inf]  [55.0, 77.0, 99.0, 22.0, Inf]\n",
      "33.0  [33.0, 33.0, 55.0]  [33.0, 33.0, 44.0, 55.0, Inf]  [33.0, 22.0, Inf]  [55.0, 77.0, 99.0, 22.0, Inf]\n",
      "33.0  [33.0, 33.0, 55.0]  [33.0, 44.0, 55.0, Inf]  [33.0, 22.0, Inf]  [55.0, 77.0, 99.0, 22.0, Inf]\n",
      "33.0  [44.0, 33.0, 55.0]  [44.0, 55.0, Inf]  [33.0, 22.0, Inf]  [55.0, 77.0, 99.0, 22.0, Inf]\n",
      "22.0  [44.0, 22.0, 55.0]  [44.0, 55.0, Inf]  [22.0, Inf]  [55.0, 77.0, 99.0, 22.0, Inf]\n",
      "44.0  [44.0, Inf, 55.0]  [44.0, 55.0, Inf]  [Inf]  [55.0, 77.0, 99.0, 22.0, Inf]\n",
      "55.0  [55.0, Inf, 55.0]  [55.0, Inf]  [Inf]  [55.0, 77.0, 99.0, 22.0, Inf]\n",
      "55.0  [Inf, Inf, 55.0]  [Inf]  [Inf]  [55.0, 77.0, 99.0, 22.0, Inf]\n",
      "77.0  [Inf, Inf, 77.0]  [Inf]  [Inf]  [77.0, 99.0, 22.0, Inf]\n",
      "99.0  [Inf, Inf, 99.0]  [Inf]  [Inf]  [99.0, 22.0, Inf]\n",
      "22.0  [Inf, Inf, 22.0]  [Inf]  [Inf]  [22.0, Inf]\n"
     ]
    },
    {
     "data": {
      "text/plain": [
       "1×11 adjoint(::Vector{Int64}) with eltype Int64:\n",
       " 11  33  33  33  22  44  55  55  77  99  22"
      ]
     },
     "execution_count": 49,
     "metadata": {},
     "output_type": "execute_result"
    }
   ],
   "source": [
    "A = Float64.(vec)\n",
    "n = size(A)[1]\n",
    "merge_sort_3(A, 1, n)\n",
    "A = Int.(A)\n",
    "display(vec')\n",
    "A'"
   ]
  }
 ],
 "metadata": {
  "kernelspec": {
   "display_name": "Julia 1.6.5",
   "language": "julia",
   "name": "julia-1.6"
  },
  "language_info": {
   "file_extension": ".jl",
   "mimetype": "application/julia",
   "name": "julia",
   "version": "1.6.6"
  },
  "orig_nbformat": 4
 },
 "nbformat": 4,
 "nbformat_minor": 2
}
