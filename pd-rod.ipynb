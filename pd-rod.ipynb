{
 "cells": [
  {
   "cell_type": "code",
   "execution_count": null,
   "metadata": {},
   "outputs": [],
   "source": [
    "P = [1, 5, 8, 9, 10, 17, 17, 20, 24, 30]\n",
    "n = size(P)[1]"
   ]
  },
  {
   "cell_type": "code",
   "execution_count": null,
   "metadata": {},
   "outputs": [],
   "source": [
    "# inicializa lookup table\n",
    "M = zeros(Int, (n,n) )\n",
    "\n",
    "# inicializa vetor de máximos de cada linha de M\n",
    "rMax = Vector{Int}(undef, n)\n",
    "for i in 1:n\n",
    "    rMax[i] = -1\n",
    "end\n",
    "\n",
    "# popula as diagonais de M\n",
    "for i in 1:n\n",
    "    M[i,i] = P[i]\n",
    "end\n",
    "\n",
    "# popula M e R em sequência de linhas\n",
    "# colunas de M: custo p(j)\n",
    "# linhas de M:  tamanho da peça (n)\n",
    "rMax[1] = P[1]\n",
    "for i in 2:n\n",
    "    for j in 1:i-1\n",
    "        M[i, j] = P[j] + rMax[i-j]\n",
    "    end\n",
    "    rMax[i] = maximum(M[i, :])\n",
    "end\n",
    "display(M)\n",
    "rMax'"
   ]
  },
  {
   "cell_type": "code",
   "execution_count": null,
   "metadata": {},
   "outputs": [],
   "source": [
    "ref = [1  5  8  10  13  17  18  22  25  30]\n",
    "ref == rMax'"
   ]
  }
 ],
 "metadata": {
  "kernelspec": {
   "display_name": "Julia 1.6.6",
   "language": "julia",
   "name": "julia-1.6"
  },
  "language_info": {
   "file_extension": ".jl",
   "mimetype": "application/julia",
   "name": "julia",
   "version": "1.6.6"
  },
  "orig_nbformat": 4
 },
 "nbformat": 4,
 "nbformat_minor": 2
}
