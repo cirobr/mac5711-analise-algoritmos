{
 "cells": [
  {
   "cell_type": "code",
   "execution_count": null,
   "metadata": {},
   "outputs": [],
   "source": [
    "using StatsBase\n",
    "using AnaliseAlgoritmos; aa=AnaliseAlgoritmos"
   ]
  },
  {
   "cell_type": "code",
   "execution_count": null,
   "metadata": {},
   "outputs": [],
   "source": [
    "# referência de ordenação\n",
    "function ref(X::Vector{Int})\n",
    "    v = sort(X)\n",
    "end"
   ]
  },
  {
   "cell_type": "code",
   "execution_count": null,
   "metadata": {},
   "outputs": [],
   "source": [
    "nTestes = 100000\n",
    "ok = []\n",
    "for i in 1 : nTestes\n",
    "    N = rand(1:1000)\n",
    "    A = sample(1:2N, N, replace = false); X = copy( Float32.(A) )\n",
    "\n",
    "    aa.merge_sort(X, 1, N)\n",
    "\n",
    "    push!( ok, X == ref(A) )\n",
    "end\n",
    "println(\"testes aprovados: \", sum(ok) == nTestes)"
   ]
  }
 ],
 "metadata": {
  "kernelspec": {
   "display_name": "Julia 1.6.6",
   "language": "julia",
   "name": "julia-1.6"
  },
  "language_info": {
   "file_extension": ".jl",
   "mimetype": "application/julia",
   "name": "julia",
   "version": "1.6.6"
  },
  "orig_nbformat": 4
 },
 "nbformat": 4,
 "nbformat_minor": 2
}
