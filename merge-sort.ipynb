{
 "cells": [
  {
   "cell_type": "code",
   "execution_count": null,
   "metadata": {},
   "outputs": [],
   "source": [
    "# CLRS page 24\n",
    "# T(n) = 2*T(n/2) + theta(n)\n",
    "# theta(n lg(n))\n",
    "function merge_sort(A, p, r)\n",
    "    if p < r   # == (r-p+1) > 1\n",
    "        q = floor( Int, (p+r)/2 )   # mid point q = p + (r-p+1)/2 ~ (p+r)/2\n",
    "        merge_sort(A, p, q)\n",
    "        merge_sort(A, q+1, r)\n",
    "        merge(A, p, q, r)\n",
    "    end\n",
    "    return(A)\n",
    "end"
   ]
  },
  {
   "cell_type": "code",
   "execution_count": null,
   "metadata": {},
   "outputs": [],
   "source": [
    "# CLRS page 22\n",
    "# theta (n)\n",
    "function merge(A, p, q, r)\n",
    "    n1 = q - p + 1\n",
    "    n2 = r - q                                 # r - (q+1) +1\n",
    "\n",
    "    L = [ A[p + i-1] for i in 1:n1 ]\n",
    "    R = [ A[q + j]   for j in 1:n2 ]           # (q+1) + (i-1)\n",
    "    push!(L, Inf)                              # sentinel to avoid comparison\n",
    "    push!(R, Inf)\n",
    "\n",
    "    i = 1\n",
    "    j = 1\n",
    "    for k in p:r\n",
    "        if L[i] <= R[j]\n",
    "            A[k] = L[i]\n",
    "            i += 1\n",
    "        else\n",
    "            A[k] = R[j]\n",
    "            j += 1\n",
    "        end\n",
    "    end\n",
    "end"
   ]
  },
  {
   "cell_type": "code",
   "execution_count": null,
   "metadata": {},
   "outputs": [],
   "source": [
    "# dados\n",
    "# vec = [33, 55, 33, 44, 33, 22, 11, 99, 22, 55, 77]; N = size(vec)[1]\n",
    "N = rand(1:100000); vec = rand(1:100, N)\n",
    "\n",
    "# teste\n",
    "display(vec')\n",
    "A = Float64.(vec)\n",
    "n = size(A)[1]\n",
    "\n",
    "merge_sort(A, 1, n)\n",
    "\n",
    "A = Int.(A)\n",
    "display(A')\n",
    "\n",
    "# verificação\n",
    "println(\"Sort correto: \", A == sort(vec) )"
   ]
  }
 ],
 "metadata": {
  "kernelspec": {
   "display_name": "Julia 1.6.6",
   "language": "julia",
   "name": "julia-1.6"
  },
  "language_info": {
   "file_extension": ".jl",
   "mimetype": "application/julia",
   "name": "julia",
   "version": "1.6.6"
  },
  "orig_nbformat": 4
 },
 "nbformat": 4,
 "nbformat_minor": 2
}
