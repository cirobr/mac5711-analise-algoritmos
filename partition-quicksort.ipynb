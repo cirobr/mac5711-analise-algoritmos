{
 "cells": [
  {
   "cell_type": "code",
   "execution_count": 18,
   "metadata": {},
   "outputs": [
    {
     "data": {
      "text/plain": [
       "partition (generic function with 1 method)"
      ]
     },
     "metadata": {},
     "output_type": "display_data"
    }
   ],
   "source": [
    "# CLRS page 124\n",
    "function partition(A, p, r)\n",
    "    x = A[r]              # x é o pivô, inicia como último elemento entre p:r\n",
    "    i = p-1               # i inicializa como imediatemente anterior a p\n",
    "    for j in p : r-1      # varredura entre p até antes do pivô\n",
    "        if A[j] <= x      # compara A[j] com o pivô\n",
    "            i += 1        # avança i, evita problema com inicialização i=0 (quando p=1)\n",
    "            temp = A[i]   # A[i] <-> A[j]\n",
    "            A[i] = A[j]\n",
    "            A[j] = temp\n",
    "        end\n",
    "    end\n",
    "    temp = A[r]           # A[i+1] <-> A[r]   swap do pivô, que não entrou no loop for\n",
    "    A[r] = A[i+1]\n",
    "    A[i+1] = temp\n",
    "\n",
    "    return(i+1)\n",
    "end"
   ]
  },
  {
   "cell_type": "code",
   "execution_count": 19,
   "metadata": {},
   "outputs": [
    {
     "data": {
      "text/plain": [
       "1×10 adjoint(::Vector{Int64}) with eltype Int64:\n",
       " 99  33  55  77  11  22  88  66  33  44"
      ]
     },
     "metadata": {},
     "output_type": "display_data"
    },
    {
     "data": {
      "text/plain": [
       "5"
      ]
     },
     "metadata": {},
     "output_type": "display_data"
    },
    {
     "data": {
      "text/plain": [
       "1×10 adjoint(::Vector{Int64}) with eltype Int64:\n",
       " 33  11  22  33  44  55  88  66  77  99"
      ]
     },
     "metadata": {},
     "output_type": "display_data"
    },
    {
     "name": "stdout",
     "output_type": "stream",
     "text": [
      "partição correta: true\n",
      "pivô correto: true\n"
     ]
    }
   ],
   "source": [
    "# teste\n",
    "vec  = [99, 33, 55, 77, 11, 22, 88, 66, 33, 44]\n",
    "resp = [33, 11, 22, 33, 44, 55, 88, 66, 77, 99]\n",
    "pivo = 5\n",
    "\n",
    "A = copy(vec)\n",
    "n = size(A)[1]\n",
    "\n",
    "x = partition(A, 1, n)\n",
    "\n",
    "display(vec')\n",
    "display(x)\n",
    "display(A')\n",
    "println(\"partição correta: \", A == resp)\n",
    "println(\"pivô correto: \", x == pivo)"
   ]
  }
 ],
 "metadata": {
  "kernelspec": {
   "display_name": "Julia 1.6.6",
   "language": "julia",
   "name": "julia-1.6"
  },
  "language_info": {
   "file_extension": ".jl",
   "mimetype": "application/julia",
   "name": "julia",
   "version": "1.6.6"
  },
  "orig_nbformat": 4
 },
 "nbformat": 4,
 "nbformat_minor": 2
}
