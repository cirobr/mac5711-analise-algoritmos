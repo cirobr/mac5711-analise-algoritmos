{
 "cells": [
  {
   "cell_type": "code",
   "execution_count": null,
   "metadata": {},
   "outputs": [],
   "source": [
    "# A[i] <-> A[j]\n",
    "function swap(A::Vector{Int}, i::Int, j::Int)\n",
    "    temp = A[i]\n",
    "    A[i] = A[j]\n",
    "    A[j] = temp\n",
    "end"
   ]
  },
  {
   "cell_type": "code",
   "execution_count": null,
   "metadata": {},
   "outputs": [],
   "source": [
    "# CLRS page 124\n",
    "# theta(n)\n",
    "function partition(A::Vector{Int}, p::Int, r::Int)\n",
    "    x = A[r]                # x é o pivô, último elemento entre p:r\n",
    "    i = p-1                 # i inicializa como imediatemente anterior a p\n",
    "    for j in p : r-1        # varredura entre p até antes do pivô\n",
    "        if A[j] <= x        # compara A[j] com o pivô\n",
    "            i += 1          # avança i, evita problema com inicialização i=0 (quando p=1)\n",
    "            swap(A, i, j)   # A[i] <-> A[j]\n",
    "        end\n",
    "    end\n",
    "    swap(A, i+1, r)         # A[i+1] <-> A[r]   swap do pivô, que não entrou no loop for\n",
    "\n",
    "    return(i+1)\n",
    "end"
   ]
  },
  {
   "cell_type": "code",
   "execution_count": null,
   "metadata": {},
   "outputs": [],
   "source": [
    "# # teste\n",
    "# vec  = [99, 33, 55, 77, 11, 22, 88, 66, 33, 44]\n",
    "# resp = [33, 11, 22, 33, 44, 55, 88, 66, 77, 99]\n",
    "# pivo = 5\n",
    "\n",
    "# A = copy(vec)\n",
    "# n = size(A)[1]\n",
    "\n",
    "# x = partition(A, 1, n)\n",
    "\n",
    "# display(vec')\n",
    "# display(x)\n",
    "# display(A')\n",
    "# println(\"partição correta: \", A == resp)\n",
    "# println(\"pivô correto: \", x == pivo)"
   ]
  },
  {
   "cell_type": "code",
   "execution_count": null,
   "metadata": {},
   "outputs": [],
   "source": [
    "# CLRS page 123\n",
    "function quicksort(A, p, r)\n",
    "    if p < r\n",
    "        q = partition(A, p, r)   # divide o vetor, elementos à esquerda são menores que A[q], à direita são maiores\n",
    "        quicksort(A, p, q-1)     # processa a parte esquerda, sem o pivô\n",
    "        quicksort(A, q+1, r)     # processa a parte direita, sem o pivô\n",
    "    end\n",
    "end"
   ]
  },
  {
   "cell_type": "code",
   "execution_count": null,
   "metadata": {},
   "outputs": [],
   "source": [
    "# dados\n",
    "# vec  = [99, 33, 55, 77, 11, 22, 88, 66, 33, 44]\n",
    "N = rand(1:100000); vec = rand(1:100, N)\n",
    "\n",
    "# execução\n",
    "A = copy(vec)\n",
    "n = size(A)[1]\n",
    "\n",
    "quicksort(A, 1, n)\n",
    "\n",
    "# verificação\n",
    "println(\"Sort correto: \", A == sort(vec) )"
   ]
  }
 ],
 "metadata": {
  "kernelspec": {
   "display_name": "Julia 1.6.6",
   "language": "julia",
   "name": "julia-1.6"
  },
  "language_info": {
   "file_extension": ".jl",
   "mimetype": "application/julia",
   "name": "julia",
   "version": "1.6.6"
  },
  "orig_nbformat": 4
 },
 "nbformat": 4,
 "nbformat_minor": 2
}
