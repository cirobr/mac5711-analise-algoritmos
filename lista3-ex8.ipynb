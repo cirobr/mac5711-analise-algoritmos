{
 "cells": [
  {
   "cell_type": "markdown",
   "metadata": {},
   "source": [
    "#### Funções auxiliares"
   ]
  },
  {
   "cell_type": "code",
   "execution_count": null,
   "metadata": {},
   "outputs": [],
   "source": [
    "# mínimo entre a e b\n",
    "function min2(a::Int, b::Int)\n",
    "    a < b ? a : b\n",
    "end\n",
    "\n",
    "# máximo entre a e b\n",
    "function max2(a::Int, b::Int)\n",
    "    a > b ? a : b\n",
    "end\n",
    "\n",
    "# segundo menor elemento de um vetor\n",
    "# slides aula 6, pág 22\n",
    "# complexidade theta(n)\n",
    "# complexidade theta(4) = constante para esta aplicação\n",
    "function segundo_menor(v::Vector{Int})\n",
    "    menor    = min2(v[1], v[2])\n",
    "    segmenor = max2(v[1], v[2])\n",
    "    n = size(v)[1]\n",
    "    for k in 3:n\n",
    "        if v[k] < menor\n",
    "            segmenor = menor\n",
    "            menor = v[k]\n",
    "        elseif v[k] < segmenor\n",
    "            segmenor = v[k]\n",
    "        end\n",
    "    end\n",
    "    return(segmenor)\n",
    "end\n",
    "\n",
    "# devolve as coordenadas da mediana do vetor A[p...r] em uma tupla\n",
    "function medianCoordinates(p::Int, r::Int)\n",
    "    (floor(Int, (p+r)/2), ceil(Int, (p+r)/2))\n",
    "end"
   ]
  },
  {
   "cell_type": "markdown",
   "metadata": {},
   "source": [
    "#### Função principal"
   ]
  },
  {
   "cell_type": "code",
   "execution_count": null,
   "metadata": {},
   "outputs": [],
   "source": [
    "# Mediana entre dois vetores ordenados\n",
    "function median2vectors(X::Vector{Int}, p, q, Y::Vector{Int}, r, s)\n",
    "    # X = [Xp, ..., Xq]\n",
    "    # Y = [Yr, ..., Ys]\n",
    "    \n",
    "    aMedian = -1                                           # inicializa mediana\n",
    "    pX = medianCoordinates(p, q)                           # calcula coordenadas da mediana\n",
    "    pY = medianCoordinates(r, s)\n",
    "    X[ pX[2] ] > Y[ pY[1] ] ? bigX = true : bigX = false   # compara medianas\n",
    "    # println(X[p:q], \" \", Y[r:s])\n",
    "    # println(\"ponteiros: \", pX[1], \" \", pY[2])\n",
    "\n",
    "    if bigX\n",
    "        #p = p\n",
    "        q = pX[2]   # elimina segunda metade de X\n",
    "        r = pY[1]   # elimina primeira metade de Y\n",
    "        #s = s\n",
    "    else\n",
    "        p = pX[2]   # elimina primeira metade de X\n",
    "        #q = q\n",
    "        #r = r\n",
    "        s = pY[1]   # elimina segunda metade de Y\n",
    "    end\n",
    "    # println(X[p:q], \" \", Y[r:s])\n",
    "    # println(\"ponteiros: \", pX[1], \" \", pY[2])\n",
    " \n",
    "    if q > p+1\n",
    "        median2vectors(X, p, q, Y, r, s)\n",
    "    else \n",
    "        # aMedian = achar segundo menor elemento de um vetor [v1..v4]\n",
    "        aMedian = segundo_menor( vcat(X[p:q], Y[r:s]) )   # complexidade theta(4)\n",
    "        return(aMedian)\n",
    "    end\n",
    "end"
   ]
  },
  {
   "cell_type": "markdown",
   "metadata": {},
   "source": [
    "#### Verificação do algoritmo"
   ]
  },
  {
   "cell_type": "code",
   "execution_count": null,
   "metadata": {},
   "outputs": [],
   "source": [
    "# funçao referência para o cálculo de mediana\n",
    "function ref(X::Vector{Int}, Y::Vector{Int})\n",
    "    N = size(X)[1]\n",
    "    v = sort( vcat(X,Y) )\n",
    "    res = (v[N], v[N+1])\n",
    "end"
   ]
  },
  {
   "cell_type": "code",
   "execution_count": null,
   "metadata": {},
   "outputs": [],
   "source": [
    "# verificação do cálculo da mediana contra a referência\n",
    "nTestes = 100000\n",
    "ok = []\n",
    "for i in 1 : nTestes\n",
    "    N = rand(1:1000)\n",
    "    X = sort( rand(1:N, N-1) )\n",
    "    X = vcat([1], X)\n",
    "    Y = sort( rand(1:N, N-1) )\n",
    "    Y = vcat([1], Y)\n",
    "\n",
    "    m = median2vectors(X, 1, N, Y, 1, N)\n",
    "    push!( ok, m in ref(X,Y) )\n",
    "end\n",
    "println(\"testes aprovados: \", sum(ok) == nTestes)\n"
   ]
  },
  {
   "cell_type": "markdown",
   "metadata": {},
   "source": [
    "#### Simulação do exercício"
   ]
  },
  {
   "cell_type": "code",
   "execution_count": null,
   "metadata": {},
   "outputs": [],
   "source": [
    "# X = [1, 2, 3, 4]\n",
    "# Y = [5, 6, 7, 8]\n",
    "\n",
    "# if size(X)[1] != size(Y)[1]\n",
    "#     println(\"oops..\")\n",
    "# else\n",
    "#     N = size(X)[1]\n",
    "#     m = median2vectors(X, 1, N, Y, 1, N)\n",
    "#     println(\"mediana: \", m)\n",
    "# end"
   ]
  }
 ],
 "metadata": {
  "kernelspec": {
   "display_name": "Julia 1.6.6",
   "language": "julia",
   "name": "julia-1.6"
  },
  "language_info": {
   "file_extension": ".jl",
   "mimetype": "application/julia",
   "name": "julia",
   "version": "1.6.6"
  },
  "orig_nbformat": 4
 },
 "nbformat": 4,
 "nbformat_minor": 2
}
