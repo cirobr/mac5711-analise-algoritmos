{
 "cells": [
  {
   "cell_type": "code",
   "execution_count": 1,
   "metadata": {},
   "outputs": [
    {
     "data": {
      "text/plain": [
       "elemento2 (generic function with 1 method)"
      ]
     },
     "metadata": {},
     "output_type": "display_data"
    }
   ],
   "source": [
    "# segundo menor elemento de um vetor\n",
    "function elemento2(v::Vector{Int})\n",
    "    vaux = sort(v)\n",
    "    size(vaux)[1] > 2 ? vaux[2] : vaux[1]\n",
    "end"
   ]
  },
  {
   "cell_type": "code",
   "execution_count": 2,
   "metadata": {},
   "outputs": [
    {
     "data": {
      "text/plain": [
       "median2vectors (generic function with 1 method)"
      ]
     },
     "metadata": {},
     "output_type": "display_data"
    }
   ],
   "source": [
    "function median2vectors(X::Vector{Int}, p, q, Y::Vector{Int}, r, s)\n",
    "    # X = [Xp, ..., Xq]\n",
    "    # Y = [Yr, ..., Ys]\n",
    "    \n",
    "    aMedian = 0\n",
    "    n = floor(Int, size(X)[1]/2)\n",
    "    pX = (floor(Int, (p+q)/2), ceil(Int, (p+q)/2))\n",
    "    pY = (floor(Int, (r+s)/2), ceil(Int, (r+s)/2))\n",
    "    X[ pX[1] ] > Y[ pY[2] ] ? biggerX = true : biggerX = false\n",
    "\n",
    "    if biggerX\n",
    "        #p = p\n",
    "        q = pX[1]\n",
    "        r = pY[2]\n",
    "        #s = s\n",
    "    else\n",
    "        p = pX[1]\n",
    "        #q = q\n",
    "        #r = r\n",
    "        s = pY[2]\n",
    "    end\n",
    " \n",
    "    if q > p+1\n",
    "        median2vectors(X, p, q, Y, r, s)\n",
    "    else \n",
    "        # aMedian = achar segundo menor elemento de um vetor [v1..v4]\n",
    "        aMedian = elemento2( vcat(X[p:q], Y[r:s]))   # complexidade O(4)\n",
    "        return(aMedian)\n",
    "    end\n",
    "end"
   ]
  },
  {
   "cell_type": "code",
   "execution_count": 3,
   "metadata": {},
   "outputs": [],
   "source": [
    "# X = [2, 3]\n",
    "# Y = [1, 4]\n",
    "\n",
    "# if size(X)[1] != size(Y)[1]\n",
    "#     println(\"oops..\")\n",
    "# else\n",
    "#     N = size(X)[1]\n",
    "#     m = median2vectors(X, 1, N, Y, 1, N)\n",
    "#     println(\"mediana: \", m)\n",
    "# end"
   ]
  },
  {
   "cell_type": "code",
   "execution_count": 4,
   "metadata": {},
   "outputs": [
    {
     "data": {
      "text/plain": [
       "ref (generic function with 1 method)"
      ]
     },
     "metadata": {},
     "output_type": "display_data"
    }
   ],
   "source": [
    "function ref(X, Y)\n",
    "    N = size(X)[1]\n",
    "    v = sort( vcat(X,Y) )\n",
    "    res = (v[N], v[N+1])\n",
    "end"
   ]
  },
  {
   "cell_type": "code",
   "execution_count": 5,
   "metadata": {},
   "outputs": [
    {
     "data": {
      "text/plain": [
       "true"
      ]
     },
     "metadata": {},
     "output_type": "display_data"
    }
   ],
   "source": [
    "nTestes = 100\n",
    "ok = []\n",
    "for i in 1 : nTestes\n",
    "    N = rand(1:10)\n",
    "    X = sort( rand(1:10, N-1) )\n",
    "    X = vcat([1], X)\n",
    "    Y = sort( rand(1:10, N-1) )\n",
    "    Y = vcat([1], Y)\n",
    "\n",
    "    m = median2vectors(X, 1, N, Y, 1, N)\n",
    "    push!( ok, m in ref(X,Y) )\n",
    "end\n",
    "sum(ok) == nTestes\n"
   ]
  }
 ],
 "metadata": {
  "kernelspec": {
   "display_name": "Julia 1.6.6",
   "language": "julia",
   "name": "julia-1.6"
  },
  "language_info": {
   "file_extension": ".jl",
   "mimetype": "application/julia",
   "name": "julia",
   "version": "1.6.6"
  },
  "orig_nbformat": 4
 },
 "nbformat": 4,
 "nbformat_minor": 2
}
