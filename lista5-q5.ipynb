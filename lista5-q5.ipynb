{
 "cells": [
  {
   "cell_type": "code",
   "execution_count": null,
   "metadata": {},
   "outputs": [],
   "source": [
    "using StatsBase"
   ]
  },
  {
   "cell_type": "code",
   "execution_count": null,
   "metadata": {},
   "outputs": [],
   "source": [
    "# referência de ordenação\n",
    "function ref(X::Vector{Int})\n",
    "    v = sort(X)\n",
    "end"
   ]
  },
  {
   "cell_type": "code",
   "execution_count": null,
   "metadata": {},
   "outputs": [],
   "source": [
    "# counting sort com saída adicional do vetor de ranking R\n",
    "function rank_counting_sort(A::Vector{Int}, k::Int)  # k = max(A)\n",
    "    n = size(A)[1]\n",
    "    B = zeros(Int, n)                           # vetor ordenado\n",
    "    C = zeros(Int, k)                           # vetor auxiliar de contagem\n",
    "    R = zeros(Int, n)                           # (add) vetor de ranking de ordenação\n",
    "    for j in 1:n   C[ A[j] ] += 1   end         # vetor ordenado instável sai daqui\n",
    "\n",
    "    # etapa de estabilidade\n",
    "    for i in 2:k   C[i] = C[i] + C[i-1]   end\n",
    "    for j in n : -1 : 1\n",
    "        R[j]           = C[ A[j] ]              # (add) popular vetor de ranking\n",
    "        B[ C[ A[j] ] ] = A[j]                   # popular vetor ordenado estável\n",
    "        C[ A[j] ]      = C[ A[j] ] - 1\n",
    "    end\n",
    "    \n",
    "    return (B, R)   # saída adicional vetor R\n",
    "end"
   ]
  },
  {
   "cell_type": "code",
   "execution_count": null,
   "metadata": {},
   "outputs": [],
   "source": [
    "# extrai o i-ésimo dígito de cada elemento de A\n",
    "function extractDigit(A::Vector{Int}, n::Int, i::Int)\n",
    "    L = digits.(A)              # elementos de A decompostos (1, 10, 100...)\n",
    "    S = size.(L)                # qtd de dígitos de cada elemento de A\n",
    "    D = zeros(Int, n)           # vetor dos i-ésimos dígitos\n",
    "\n",
    "    for j in 1:n\n",
    "        if i <= S[j][1]\n",
    "            D[j] = L[j][i]\n",
    "        else\n",
    "            D[j] = 0\n",
    "        end\n",
    "    end\n",
    "\n",
    "    return D\n",
    "end"
   ]
  },
  {
   "cell_type": "code",
   "execution_count": null,
   "metadata": {},
   "outputs": [],
   "source": [
    "function ordene(A, n, i)\n",
    "    B = copy(A)\n",
    "    D = extractDigit(A, n, i)\n",
    "    D = D .+ 1                         # ajustar range de 0:9 para 1:10\n",
    "\n",
    "    _, R = rank_counting_sort(D, 10)\n",
    "\n",
    "    for j in 1:n\n",
    "        B[ R[j] ] = A[j]\n",
    "    end\n",
    "\n",
    "    return B\n",
    "end"
   ]
  },
  {
   "cell_type": "code",
   "execution_count": null,
   "metadata": {},
   "outputs": [],
   "source": [
    "function radix_sort(A, n, d)\n",
    "    B = copy(A)\n",
    "    for i in 1:d\n",
    "        B = ordene(B, n, i)\n",
    "    end\n",
    "\n",
    "    return B\n",
    "end"
   ]
  },
  {
   "cell_type": "code",
   "execution_count": null,
   "metadata": {},
   "outputs": [],
   "source": [
    "# teste simples\n",
    "A = [0, 23, 14, 12, 9]\n",
    "n = size(A)[1]           # tamanho do vetor\n",
    "d = 2                    # max dígitos de elemento\n",
    "\n",
    "display(A')\n",
    "radix_sort(A, n, d)'"
   ]
  },
  {
   "cell_type": "code",
   "execution_count": null,
   "metadata": {},
   "outputs": [],
   "source": [
    "# teste completo\n",
    "nTestes = 100000\n",
    "ok = []\n",
    "d = 4\n",
    "for i in 1 : nTestes\n",
    "    N = rand(1:1000)\n",
    "    A = sample(1:2N, N, replace = false); X = copy(A)\n",
    "\n",
    "    res = radix_sort(X, N, d)\n",
    "\n",
    "    push!( ok, res == ref(A) )\n",
    "end\n",
    "println(\"testes aprovados: \", sum(ok) == nTestes)"
   ]
  }
 ],
 "metadata": {
  "kernelspec": {
   "display_name": "Julia 1.6.6",
   "language": "julia",
   "name": "julia-1.6"
  },
  "language_info": {
   "file_extension": ".jl",
   "mimetype": "application/julia",
   "name": "julia",
   "version": "1.6.6"
  },
  "orig_nbformat": 4
 },
 "nbformat": 4,
 "nbformat_minor": 2
}
