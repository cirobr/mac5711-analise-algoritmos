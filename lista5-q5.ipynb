{
 "cells": [
  {
   "cell_type": "code",
   "execution_count": null,
   "metadata": {},
   "outputs": [],
   "source": [
    "function modified_counting_sort(A::Vector{Int}, k::Int, a, b)\n",
    "    n = size(A)[1]\n",
    "    B = zeros(Int, n)\n",
    "    C = zeros(Int, k)                           # k valor máximo de elemento contido em A\n",
    "    \n",
    "    for j in 1:n\n",
    "        C[ A[j] ] += 1\n",
    "    end\n",
    "    \n",
    "    for i in 2:k\n",
    "        C[i] = C[i] + C[i-1]\n",
    "    end\n",
    "\n",
    "    if a - 1 > 0\n",
    "        res = C[b] - C[a-1]\n",
    "    elseif a - 1 == 0\n",
    "        res = C[b]\n",
    "    end\n",
    "           \n",
    "    return res\n",
    "end"
   ]
  },
  {
   "cell_type": "code",
   "execution_count": 20,
   "metadata": {},
   "outputs": [
    {
     "ename": "MethodError",
     "evalue": "MethodError: no method matching isless(::Tuple{Int64}, ::Int64)\nClosest candidates are:\n  isless(::Any, !Matched::Missing) at missing.jl:88\n  isless(!Matched::Missing, ::Any) at missing.jl:87\n  isless(::Tuple, !Matched::Tuple{}) at tuple.jl:436\n  ...",
     "output_type": "error",
     "traceback": [
      "MethodError: no method matching isless(::Tuple{Int64}, ::Int64)\n",
      "Closest candidates are:\n",
      "  isless(::Any, !Matched::Missing) at missing.jl:88\n",
      "  isless(!Matched::Missing, ::Any) at missing.jl:87\n",
      "  isless(::Tuple, !Matched::Tuple{}) at tuple.jl:436\n",
      "  ...\n",
      "\n",
      "Stacktrace:\n",
      "  [1] <(x::Tuple{Int64}, y::Int64)\n",
      "    @ Base ./operators.jl:279\n",
      "  [2] >(x::Int64, y::Tuple{Int64})\n",
      "    @ Base ./operators.jl:305\n",
      "  [3] top-level scope\n",
      "    @ ~/projects/mac5711-analise-algoritmos/lista5-q4.ipynb:5\n",
      "  [4] eval\n",
      "    @ ./boot.jl:360 [inlined]\n",
      "  [5] include_string(mapexpr::typeof(REPL.softscope), mod::Module, code::String, filename::String)\n",
      "    @ Base ./loading.jl:1116\n",
      "  [6] #invokelatest#2\n",
      "    @ ./essentials.jl:708 [inlined]\n",
      "  [7] invokelatest\n",
      "    @ ./essentials.jl:706 [inlined]\n",
      "  [8] (::VSCodeServer.var\"#160#161\"{VSCodeServer.NotebookRunCellArguments, String})()\n",
      "    @ VSCodeServer ~/.vscode-server/extensions/julialang.language-julia-1.6.17/scripts/packages/VSCodeServer/src/serve_notebook.jl:19\n",
      "  [9] withpath(f::VSCodeServer.var\"#160#161\"{VSCodeServer.NotebookRunCellArguments, String}, path::String)\n",
      "    @ VSCodeServer ~/.vscode-server/extensions/julialang.language-julia-1.6.17/scripts/packages/VSCodeServer/src/repl.jl:184\n",
      " [10] notebook_runcell_request(conn::VSCodeServer.JSONRPC.JSONRPCEndpoint{Base.PipeEndpoint, Base.PipeEndpoint}, params::VSCodeServer.NotebookRunCellArguments)\n",
      "    @ VSCodeServer ~/.vscode-server/extensions/julialang.language-julia-1.6.17/scripts/packages/VSCodeServer/src/serve_notebook.jl:13\n",
      " [11] dispatch_msg(x::VSCodeServer.JSONRPC.JSONRPCEndpoint{Base.PipeEndpoint, Base.PipeEndpoint}, dispatcher::VSCodeServer.JSONRPC.MsgDispatcher, msg::Dict{String, Any})\n",
      "    @ VSCodeServer.JSONRPC ~/.vscode-server/extensions/julialang.language-julia-1.6.17/scripts/packages/JSONRPC/src/typed.jl:67\n",
      " [12] serve_notebook(pipename::String, outputchannel_logger::Base.CoreLogging.SimpleLogger; crashreporting_pipename::String)\n",
      "    @ VSCodeServer ~/.vscode-server/extensions/julialang.language-julia-1.6.17/scripts/packages/VSCodeServer/src/serve_notebook.jl:136\n",
      " [13] top-level scope\n",
      "    @ ~/.vscode-server/extensions/julialang.language-julia-1.6.17/scripts/notebook/notebook.jl:32\n",
      " [14] include(mod::Module, _path::String)\n",
      "    @ Base ./Base.jl:384\n",
      " [15] exec_options(opts::Base.JLOptions)\n",
      "    @ Base ./client.jl:285\n",
      " [16] _start()\n",
      "    @ Base ./client.jl:485"
     ]
    }
   ],
   "source": [
    "A = [0, 23, 14, 12, 9]\n",
    "X=digits.(A)\n",
    "for i in X\n",
    "    for d in 1:2\n",
    "        d > size(i) ? println(0) : println(i[d])\n",
    "    end\n",
    "end\n",
    "\n"
   ]
  },
  {
   "cell_type": "code",
   "execution_count": null,
   "metadata": {},
   "outputs": [],
   "source": [
    "counting_sort(X, 7, 6, 6)'\n"
   ]
  }
 ],
 "metadata": {
  "kernelspec": {
   "display_name": "Julia 1.6.6",
   "language": "julia",
   "name": "julia-1.6"
  },
  "language_info": {
   "file_extension": ".jl",
   "mimetype": "application/julia",
   "name": "julia",
   "version": "1.6.6"
  },
  "orig_nbformat": 4
 },
 "nbformat": 4,
 "nbformat_minor": 2
}
