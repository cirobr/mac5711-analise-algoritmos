{
 "cells": [
  {
   "cell_type": "markdown",
   "metadata": {},
   "source": [
    "#### Setup"
   ]
  },
  {
   "cell_type": "code",
   "execution_count": null,
   "metadata": {},
   "outputs": [],
   "source": [
    "using StatsBase\n",
    "include(\"./misc.jl\")\n",
    "include(\"./heapsort.jl\")"
   ]
  },
  {
   "cell_type": "code",
   "execution_count": null,
   "metadata": {},
   "outputs": [],
   "source": [
    "# referência de ordenação\n",
    "function ref(X::Vector{Int})\n",
    "    v = sort(X)\n",
    "end"
   ]
  },
  {
   "cell_type": "markdown",
   "metadata": {},
   "source": [
    "#### 6.2 manutenção da prioridade de heap"
   ]
  },
  {
   "cell_type": "code",
   "execution_count": null,
   "metadata": {},
   "outputs": [],
   "source": [
    "function min_heapify(A::Vector, n::Int, i::Int)\n",
    "    e = 2i\n",
    "    d = 2i+1\n",
    "    menor = ( ( e <= n && A[e] < A[i] ) ? e : i )\n",
    "    if ( d <= n ) && ( A[d] < A[menor] )   menor = d   end\n",
    "    if menor != i\n",
    "        swap(A, i, menor)\n",
    "        min_heapify(A, n, menor)\n",
    "    end\n",
    "end"
   ]
  },
  {
   "cell_type": "markdown",
   "metadata": {},
   "source": [
    "#### 6.3 construção de heap"
   ]
  },
  {
   "cell_type": "code",
   "execution_count": null,
   "metadata": {},
   "outputs": [],
   "source": [
    "# CLRS page 114\n",
    "# constrói heap a partir de entrada não ordenada\n",
    "# O(n)\n",
    "function build_min_heap(A::Vector, n::Int)\n",
    "    med = parentNode(n)\n",
    "    for i in med : -1 : 1\n",
    "        min_heapify(A, n, i)\n",
    "    end\n",
    "end"
   ]
  },
  {
   "cell_type": "markdown",
   "metadata": {},
   "source": [
    "#### 6.5 Filas de prioridade"
   ]
  },
  {
   "cell_type": "code",
   "execution_count": null,
   "metadata": {},
   "outputs": [],
   "source": [
    "# informa o maior valor dentre os elementos do heap\n",
    "# theta(1)\n",
    "heap_minimum(A::Vector) = A[1]"
   ]
  },
  {
   "cell_type": "code",
   "execution_count": null,
   "metadata": {},
   "outputs": [],
   "source": [
    "# extrai o valor max e refaz o heap\n",
    "# O(lg n)\n",
    "function heap_extract_min(A::Vector, heapsize::Int)\n",
    "    if heapsize < 1   return(\"heap underflow\")   end\n",
    "    min = A[1]\n",
    "    A[1] = A[heapsize]            # último elemento ocupa o topo do heap\n",
    "    heapsize -= 1\n",
    "    min_heapify(A, heapsize, 1)   # refaz o heap desde o topo até heapsize\n",
    "    \n",
    "    return(min, heapsize)\n",
    "end"
   ]
  },
  {
   "cell_type": "code",
   "execution_count": null,
   "metadata": {},
   "outputs": [],
   "source": [
    "# Substitui o valor de A[i] por k, desde que k seja < A[i]\n",
    "# O(lg n)\n",
    "function heap_decrease_key(A::Vector, i::Int, k::Int)\n",
    "    if k > A[i]   return(\"new key bigger than current key\")   end\n",
    "    A[i] = k\n",
    "    while i > 1 && A[parentNode(i)] > A[i]   # refaz o heap recolocando k para um local acima na árvore\n",
    "        swap( A, i, parentNode(i) )\n",
    "        i = copy( parentNode(i) )\n",
    "    end\n",
    "end"
   ]
  },
  {
   "cell_type": "code",
   "execution_count": null,
   "metadata": {},
   "outputs": [],
   "source": [
    "# insere o valor k no heap A\n",
    "# O(lg n)\n",
    "function min_heap_insert(A::Vector{Float32}, heapsize::Int, k::Int)\n",
    "    heapsize += 1\n",
    "    if heapsize <= size(A)[1]\n",
    "        A[heapsize] = +Inf   # necessário A::Float32\n",
    "    else\n",
    "        push!(A, +Inf)\n",
    "    end\n",
    "    heap_decrease_key(A, heapsize, k)\n",
    "    \n",
    "    return(heapsize)\n",
    "end"
   ]
  },
  {
   "cell_type": "code",
   "execution_count": null,
   "metadata": {},
   "outputs": [],
   "source": [
    "vec = [14, 13, 34, 17, 15, 10, 46, 23, 12, 41, 30, 21]\n",
    "n = size(vec)[1]\n",
    "println(\"Original: \", vec')\n",
    "\n",
    "A = Float32.(vec)\n",
    "build_min_heap(A, n)\n",
    "heapsize = copy(n)\n",
    "println(\"Heap:     \", Int.(A)', \" \", heapsize)\n",
    "\n",
    "heapsize = min_heap_insert(A, heapsize, 22)\n",
    "println(\"Insert:   \", Int.(A)', \" \", heapsize)\n",
    "\n",
    "heapsize = min_heap_insert(A, heapsize, 8)\n",
    "println(\"Insert:   \", Int.(A)', \" \", heapsize)\n",
    "\n",
    "min, heapsize = heap_extract_min(A, heapsize)\n",
    "println(\"Extract:  \", Int.(A)', \" \", heapsize)\n"
   ]
  }
 ],
 "metadata": {
  "kernelspec": {
   "display_name": "Julia 1.6.6",
   "language": "julia",
   "name": "julia-1.6"
  },
  "language_info": {
   "file_extension": ".jl",
   "mimetype": "application/julia",
   "name": "julia",
   "version": "1.6.6"
  },
  "orig_nbformat": 4
 },
 "nbformat": 4,
 "nbformat_minor": 2
}
