{
 "cells": [
  {
   "cell_type": "code",
   "execution_count": null,
   "metadata": {},
   "outputs": [],
   "source": [
    "# CLRS page 12\n",
    "function insertion_sort(A)\n",
    "    n = size(A)[1]                   # vector size\n",
    "    for j in 2 : n                   # scan from 2nd:last element\n",
    "        key = A[j]                   # store element in key\n",
    "        i = j-1                      # reference to previous element\n",
    "        while i >=1 && A[i] > key    # scan all previous\n",
    "            A[i+1] = A[i]            # shift right if greater than key\n",
    "            i -= 1\n",
    "        end\n",
    "        A[i+1] = key                 # insert key\n",
    "    end\n",
    "    return(A)\n",
    "end"
   ]
  },
  {
   "cell_type": "code",
   "execution_count": null,
   "metadata": {},
   "outputs": [],
   "source": [
    "# CLRS page 22\n",
    "function merge(A, p, q, r)\n",
    "    n1 = q - p + 1\n",
    "    n2 = r - q                                 # r - (q+1) +1\n",
    "\n",
    "    L = [ A[p + i-1] for i in 1:n1 ]\n",
    "    R = [ A[q + j]   for j in 1:n2 ]           # (q+1) + (i-1)\n",
    "    push!(L, Inf)                              # sentinel to avoid comparison\n",
    "    push!(R, Inf)\n",
    "\n",
    "    i = 1\n",
    "    j = 1\n",
    "    for k in p:r\n",
    "        if L[i] <= R[j]\n",
    "            A[k] = L[i]\n",
    "            i += 1\n",
    "        else\n",
    "            A[k] = R[j]\n",
    "            j += 1\n",
    "        end\n",
    "    end\n",
    "end\n",
    "\n",
    "# CLRS page 24\n",
    "function merge_sort(A, p, r)\n",
    "    if p < r\n",
    "        q = floor( (p+r)/2 ) |> Int\n",
    "        merge_sort(A, p, q)\n",
    "        merge_sort(A, q+1, r)\n",
    "        merge(A, p, q, r)\n",
    "    end\n",
    "    return(A)\n",
    "end"
   ]
  },
  {
   "cell_type": "code",
   "execution_count": null,
   "metadata": {},
   "outputs": [],
   "source": [
    "A = [33; 55; 33; 44; 33; 22; 11; 99; 22; 55; 77]\n",
    "A = Float64.(A)\n",
    "@time insertion_sort(A)\n",
    "A = Int.(A)'"
   ]
  },
  {
   "cell_type": "code",
   "execution_count": null,
   "metadata": {},
   "outputs": [],
   "source": [
    "A = [33; 55; 33; 44; 33; 22; 11; 99; 22; 55; 77]\n",
    "A = Float64.(A)\n",
    "n = size(A)[1]\n",
    "@time merge_sort(A, 1, n)\n",
    "A = Int.(A)'"
   ]
  }
 ],
 "metadata": {
  "kernelspec": {
   "display_name": "Julia 1.6.5",
   "language": "julia",
   "name": "julia-1.6"
  },
  "language_info": {
   "file_extension": ".jl",
   "mimetype": "application/julia",
   "name": "julia",
   "version": "1.6.5"
  },
  "orig_nbformat": 4
 },
 "nbformat": 4,
 "nbformat_minor": 2
}
