{
 "cells": [
  {
   "cell_type": "code",
   "execution_count": null,
   "metadata": {},
   "outputs": [],
   "source": [
    "function merge2lists(V1::Vector{Float64}, V2::Vector{Float64})\n",
    "    L = copy(V1)    # permanecer\n",
    "    R = copy(V2)    # permanecer\n",
    "    outputSize = size(L)[1] + size(R)[1]\n",
    "\n",
    "    push!(L, Inf)   # sentinel to avoid comparison\n",
    "    push!(R, Inf)\n",
    "\n",
    "    i = 1\n",
    "    j = 1\n",
    "    outputList = Float64[]\n",
    "    for m in 1 : outputSize\n",
    "        if L[i] <= R[j]\n",
    "            push!(outputList, L[i])\n",
    "            i += 1\n",
    "        else\n",
    "            push!(outputList, R[j])\n",
    "            j += 1\n",
    "        end\n",
    "    end\n",
    "    return(outputList)\n",
    "end"
   ]
  },
  {
   "cell_type": "code",
   "execution_count": null,
   "metadata": {},
   "outputs": [],
   "source": [
    "# # teste 2lists\n",
    "# lists = [   [30.0, 46.0, 78.0, 92.0, 99.0],\n",
    "#             [19.0, 34.0, 53.0, 63.0, 75.0],\n",
    "#             [2.0, 34.0, 40.0, 48.0, 56.0],\n",
    "#             [13.0, 23.0, 49.0, 66.0, 93.0],\n",
    "#             [7.0, 42.0, 67.0, 67.0, 78.0]   ]\n",
    "# merge2lists(lists[1], lists[2])'"
   ]
  },
  {
   "cell_type": "code",
   "execution_count": null,
   "metadata": {},
   "outputs": [],
   "source": [
    "function mergeKlists(lists::Vector{Vector{Float64}})\n",
    "    while size(lists)[1] > 1\n",
    "        \n",
    "        output = []\n",
    "        for i in 1: 2: size(lists)[1]\n",
    "            if i+1 <= size(lists)[1]\n",
    "                out2lists = merge2lists(lists[i], lists[i+1])\n",
    "                push!(output, out2lists)\n",
    "            else\n",
    "                push!(output, lists[i])\n",
    "            end\n",
    "        end\n",
    "        lists = copy(output)\n",
    "    end\n",
    "    return(lists)\n",
    "end"
   ]
  },
  {
   "cell_type": "code",
   "execution_count": null,
   "metadata": {},
   "outputs": [],
   "source": [
    "# teste Klists\n",
    "vec = [ [30.0, 46.0, 78.0, 92.0, 99.0],\n",
    "        [19.0, 34.0, 53.0, 63.0, 75.0],\n",
    "        [2.0, 34.0, 40.0, 48.0, 56.0],\n",
    "        [13.0, 23.0, 49.0, 66.0, 93.0],\n",
    "        [7.0, 42.0, 67.0, 67.0, 78.0] ]\n",
    "global lists = copy(vec)\n",
    "\n",
    "res = mergeKlists(lists)\n",
    "\n",
    "# verificação\n",
    "f(v) = sort(reduce(vcat, v))\n",
    "res[1] == f(vec)"
   ]
  },
  {
   "cell_type": "code",
   "execution_count": null,
   "metadata": {},
   "outputs": [],
   "source": [
    "# dados\n",
    "N = rand(1:500)   # qtd listas\n",
    "k = rand(1:500)   # tamanho das listas\n",
    "n = N * k         # tamanho da lista unificada\n",
    "\n",
    "vec = [ sort!( rand(1.0 : 100.0, k) ) for i in 1:N ]\n",
    "lists = copy(vec)\n",
    "\n",
    "res = mergeKlists(lists)\n",
    "\n",
    "# verificação\n",
    "f(v) = sort(reduce(vcat, v))\n",
    "res[1] == f(vec)"
   ]
  }
 ],
 "metadata": {
  "kernelspec": {
   "display_name": "Julia 1.6.6",
   "language": "julia",
   "name": "julia-1.6"
  },
  "language_info": {
   "file_extension": ".jl",
   "mimetype": "application/julia",
   "name": "julia",
   "version": "1.6.6"
  }
 },
 "nbformat": 4,
 "nbformat_minor": 2
}
