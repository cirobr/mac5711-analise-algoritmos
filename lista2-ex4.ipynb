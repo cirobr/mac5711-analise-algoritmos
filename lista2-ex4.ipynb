{
 "cells": [
  {
   "cell_type": "code",
   "execution_count": null,
   "metadata": {},
   "outputs": [],
   "source": [
    "# CLRS page 24\n",
    "function merge_sort(lists, A, p, r, B)\n",
    "    if p < r   # == (r-p+1) > 1\n",
    "        q = floor( Int, (p+r)/2 )   # mid point q = p + (r-p+1)/2 ~ (p+r)/2\n",
    "        merge_sort(lists, A, p, q, B)\n",
    "        merge_sort(lists, A, q+1, r, B)\n",
    "        merge(lists, A, p, q, r, B)\n",
    "    end\n",
    "end"
   ]
  },
  {
   "cell_type": "code",
   "execution_count": null,
   "metadata": {},
   "outputs": [],
   "source": [
    "function merge(lists, A, p, q, r, B)\n",
    "    L = reduce(vcat, lists[A[p:q]])\n",
    "    R = reduce(vcat, lists[A[q+1:r]])\n",
    "\n",
    "    push!(L, Inf)                              # sentinel to avoid comparison\n",
    "    push!(R, Inf)\n",
    "\n",
    "    i = 1\n",
    "    j = 1\n",
    "    for t in p:r\n",
    "        for u in 1:k\n",
    "            m = (t - 1) * k + u                # to scan all list elements within lists p:r\n",
    "\n",
    "            if L[i] <= R[j]\n",
    "                B[m] = L[i]\n",
    "                lists[t][u] = L[i]\n",
    "                i += 1\n",
    "            else\n",
    "                B[m] = R[j]\n",
    "                lists[t][u] = R[j]\n",
    "                j += 1\n",
    "            end\n",
    "        end\n",
    "    end\n",
    "end"
   ]
  },
  {
   "cell_type": "code",
   "execution_count": null,
   "metadata": {},
   "outputs": [],
   "source": [
    "# dados\n",
    "global n = 100       # qtd listas\n",
    "global k = 50      # tamanho das listas\n",
    "global N = n * k   # tamanho da lista unificada\n",
    "\n",
    "A = 1:n |> Vector\n",
    "\n",
    "vecs = [sort!( rand(1.0:100.0, k) ) for i in 1:n]\n",
    "lists = copy(vecs)\n",
    "\n",
    "# display(lists)\n",
    "\n",
    "# execução\n",
    "B = Array{Float64}(undef, N)   # lista unificada\n",
    "merge_sort(lists, A, 1, n, B)\n",
    "\n",
    "# verificação\n",
    "ref(vecs) = sort(reduce(vcat, lists))\n",
    "B == ref(vecs)\n"
   ]
  }
 ],
 "metadata": {
  "kernelspec": {
   "display_name": "Julia 1.6.5",
   "language": "julia",
   "name": "julia-1.6"
  },
  "language_info": {
   "file_extension": ".jl",
   "mimetype": "application/julia",
   "name": "julia",
   "version": "1.6.5"
  },
  "orig_nbformat": 4
 },
 "nbformat": 4,
 "nbformat_minor": 2
}
