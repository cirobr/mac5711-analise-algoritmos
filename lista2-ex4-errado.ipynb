{
 "cells": [
  {
   "cell_type": "code",
   "execution_count": null,
   "metadata": {},
   "outputs": [],
   "source": [
    "# CLRS page 24\n",
    "function merge_sort(lists, p, r, output)\n",
    "    len = r - p + 1\n",
    "    if len > 1\n",
    "        q = floor( Int, (p+r)/2 )   # mid point q = p + (r-p+1)/2 ~ (p+r)/2\n",
    "        merge_sort(lists, p, q, output)\n",
    "        merge_sort(lists, q+1, r, output)\n",
    "        merge(lists, p, q, r, output)\n",
    "    end\n",
    "end"
   ]
  },
  {
   "cell_type": "code",
   "execution_count": null,
   "metadata": {},
   "outputs": [],
   "source": [
    "function merge(lists, p, q, r, output)\n",
    "    L = reduce(vcat, lists[p:q])\n",
    "    R = reduce(vcat, lists[q+1:r])\n",
    "\n",
    "    push!(L, Inf)                              # sentinel to avoid comparison\n",
    "    push!(R, Inf)\n",
    "\n",
    "    i = 1\n",
    "    j = 1\n",
    "    for t in p:r\n",
    "        for u in 1:k\n",
    "            m = (t - 1) * k + u                # to scan all list elements within lists p:r\n",
    "\n",
    "            if L[i] <= R[j]\n",
    "                output[m] = L[i]\n",
    "                lists[t][u] = L[i]\n",
    "                i += 1\n",
    "            else\n",
    "                output[m] = R[j]\n",
    "                lists[t][u] = R[j]\n",
    "                j += 1\n",
    "            end\n",
    "        end\n",
    "    end\n",
    "end"
   ]
  },
  {
   "cell_type": "code",
   "execution_count": null,
   "metadata": {},
   "outputs": [],
   "source": [
    "# dados\n",
    "global N = 500     # qtd listas\n",
    "global k = 50      # tamanho das listas\n",
    "global n = N * k   # tamanho da lista unificada\n",
    "\n",
    "A = 1:N |> Vector\n",
    "\n",
    "vecs = [ sort!( rand(1.0:100.0, k) ) for i in 1:N ]\n",
    "lists = copy(vecs)\n",
    "\n",
    "# execução\n",
    "outputList = Array{Float64}(undef, n)   # lista unificada\n",
    "merge_sort(lists, 1, N, outputList)\n",
    "\n",
    "# verificação\n",
    "ref(vecs) = sort(reduce(vcat, lists))\n",
    "outputList == ref(vecs)\n"
   ]
  }
 ],
 "metadata": {
  "kernelspec": {
   "display_name": "Julia 1.6.6",
   "language": "julia",
   "name": "julia-1.6"
  },
  "language_info": {
   "file_extension": ".jl",
   "mimetype": "application/julia",
   "name": "julia",
   "version": "1.6.6"
  },
  "orig_nbformat": 4
 },
 "nbformat": 4,
 "nbformat_minor": 2
}
