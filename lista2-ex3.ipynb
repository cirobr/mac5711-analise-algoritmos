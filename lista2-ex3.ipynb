{
 "cells": [
  {
   "cell_type": "code",
   "execution_count": 12,
   "metadata": {},
   "outputs": [
    {
     "data": {
      "text/plain": [
       "1×11 adjoint(::Vector{Int64}) with eltype Int64:\n",
       " 33  55  33  44  33  22  11  99  22  55  77"
      ]
     },
     "execution_count": 12,
     "metadata": {},
     "output_type": "execute_result"
    }
   ],
   "source": [
    "vec = [33; 55; 33; 44; 33; 22; 11; 99; 22; 55; 77]\n",
    "# vec = rand(1:100, 100000)\n",
    "vec'"
   ]
  },
  {
   "cell_type": "code",
   "execution_count": 13,
   "metadata": {},
   "outputs": [
    {
     "data": {
      "text/plain": [
       "23"
      ]
     },
     "execution_count": 13,
     "metadata": {},
     "output_type": "execute_result"
    }
   ],
   "source": [
    "function referencia(A, p, q, c)\n",
    "    n = q-p+1\n",
    "    for i in 1:n-1\n",
    "        for j in i+1:n\n",
    "            if A[i] > A[j] c += 1 end\n",
    "        end\n",
    "    end\n",
    "    return(c)\n",
    "end\n",
    "\n",
    "N = size(vec)[1]\n",
    "referencia(vec, 1, N, 0)\n"
   ]
  },
  {
   "cell_type": "code",
   "execution_count": 14,
   "metadata": {},
   "outputs": [
    {
     "data": {
      "text/plain": [
       "conta_inversao (generic function with 1 method)"
      ]
     },
     "execution_count": 14,
     "metadata": {},
     "output_type": "execute_result"
    }
   ],
   "source": [
    "function conta_inversao(A, p, r, c)\n",
    "    lenVec = r - p + 1\n",
    "    if lenVec > 2\n",
    "        sect = floor(lenVec/2) |> Int\n",
    "        q = p + sect\n",
    "        # println(p, \" \", q, \" \", r)\n",
    "        conta_inversao(A, p, q, c)\n",
    "        conta_inversao(A, q+1, r, c)\n",
    "        conta(A, p, q, r, c)\n",
    "    end\n",
    "end"
   ]
  },
  {
   "cell_type": "code",
   "execution_count": 15,
   "metadata": {},
   "outputs": [
    {
     "data": {
      "text/plain": [
       "conta (generic function with 1 method)"
      ]
     },
     "execution_count": 15,
     "metadata": {},
     "output_type": "execute_result"
    }
   ],
   "source": [
    "function conta(A, p, q, r, c)\n",
    "    println(A[p:q], \" \", A[q+1:r])\n",
    "\n",
    "    global c += 1\n",
    "end"
   ]
  },
  {
   "cell_type": "code",
   "execution_count": 16,
   "metadata": {},
   "outputs": [
    {
     "name": "stdout",
     "output_type": "stream",
     "text": [
      "[33 55 33 44 33 22 11 99 22 55 77]\n",
      "[33, 55] [33]\n",
      "[33, 55, 33] [44]\n",
      "[33, 55, 33, 44] [33, 22]\n",
      "[11, 99] [22]\n",
      "[11, 99, 22] [55, 77]\n",
      "[33, 55, 33, 44, 33, 22] [11, 99, 22, 55, 77]\n"
     ]
    },
    {
     "data": {
      "text/plain": [
       "6"
      ]
     },
     "execution_count": 16,
     "metadata": {},
     "output_type": "execute_result"
    }
   ],
   "source": [
    "B = copy(vec)\n",
    "println(B')\n",
    "n = size(B)[1]\n",
    "c = 0\n",
    "conta_inversao(B, 1, n, c);\n",
    "c"
   ]
  }
 ],
 "metadata": {
  "kernelspec": {
   "display_name": "Julia 1.6.5",
   "language": "julia",
   "name": "julia-1.6"
  },
  "language_info": {
   "file_extension": ".jl",
   "mimetype": "application/julia",
   "name": "julia",
   "version": "1.6.6"
  },
  "orig_nbformat": 4
 },
 "nbformat": 4,
 "nbformat_minor": 2
}
