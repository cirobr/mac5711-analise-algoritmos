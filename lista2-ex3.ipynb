{
 "cells": [
  {
   "cell_type": "code",
   "execution_count": 1,
   "metadata": {},
   "outputs": [
    {
     "data": {
      "text/plain": [
       "referencia (generic function with 1 method)"
      ]
     },
     "metadata": {},
     "output_type": "display_data"
    }
   ],
   "source": [
    "function referencia(A, p, q, c)\n",
    "    n = q-p+1\n",
    "    for i in 1:n-1\n",
    "        for j in i+1:n\n",
    "            if A[i] > A[j] c += 1 end\n",
    "        end\n",
    "    end\n",
    "    return(c)\n",
    "end"
   ]
  },
  {
   "cell_type": "code",
   "execution_count": 2,
   "metadata": {},
   "outputs": [
    {
     "data": {
      "text/plain": [
       "merge_sort (generic function with 1 method)"
      ]
     },
     "metadata": {},
     "output_type": "display_data"
    }
   ],
   "source": [
    "# CLRS page 24\n",
    "function merge_sort(A, p, r)\n",
    "    if p < r   # == (r-p+1) > 1\n",
    "        q = floor( Int, (p+r)/2 )   # mid point q = p + (r-p+1)/2 ~ (p+r)/2\n",
    "        merge_sort(A, p, q)\n",
    "        merge_sort(A, q+1, r)\n",
    "        merge(A, p, q, r)\n",
    "    end\n",
    "    return(A)\n",
    "end"
   ]
  },
  {
   "cell_type": "code",
   "execution_count": 3,
   "metadata": {},
   "outputs": [
    {
     "data": {
      "text/plain": [
       "merge (generic function with 1 method)"
      ]
     },
     "metadata": {},
     "output_type": "display_data"
    }
   ],
   "source": [
    "# CLRS page 22\n",
    "function merge(A, p, q, r)\n",
    "    # println(A[p:q], \" \", A[q+1:r])\n",
    "    n1 = q - p + 1\n",
    "    n2 = r - q                                 # r - (q+1) +1\n",
    "\n",
    "    L = [ A[p + i-1] for i in 1:n1 ]\n",
    "    R = [ A[q + j]   for j in 1:n2 ]           # (q+1) + (i-1)\n",
    "    # println(A[1:p-1])\n",
    "    # println(L, R)\n",
    "    # println(p, \" \", r)\n",
    "    # println()\n",
    "    push!(L, Inf)                              # sentinel to avoid comparison\n",
    "    push!(R, Inf)\n",
    "\n",
    "    i = 1\n",
    "    j = 1\n",
    "    for k in p:r\n",
    "        if L[i] <= R[j]\n",
    "            A[k] = L[i]\n",
    "            i += 1\n",
    "        else\n",
    "            A[k] = R[j]\n",
    "            j += 1\n",
    "            global invCount += (n1 - i + 1)   # adicionada ao merge original\n",
    "        end\n",
    "    end\n",
    "end"
   ]
  },
  {
   "cell_type": "code",
   "execution_count": 23,
   "metadata": {},
   "outputs": [
    {
     "data": {
      "text/plain": [
       "true"
      ]
     },
     "metadata": {},
     "output_type": "display_data"
    }
   ],
   "source": [
    "# vec = [33; 55; 33; 44; 33; 22; 11; 99; 22; 55; 77]\n",
    "N = rand(1:100000)\n",
    "vec = rand(1:100, N)\n",
    "\n",
    "A = Float64.(vec)\n",
    "global invCount = 0\n",
    "merge_sort(A, 1, N)\n",
    "\n",
    "referencia(vec, 1, N, 0) == invCount"
   ]
  }
 ],
 "metadata": {
  "kernelspec": {
   "display_name": "Julia 1.6.6",
   "language": "julia",
   "name": "julia-1.6"
  },
  "language_info": {
   "file_extension": ".jl",
   "mimetype": "application/julia",
   "name": "julia",
   "version": "1.6.6"
  },
  "orig_nbformat": 4
 },
 "nbformat": 4,
 "nbformat_minor": 2
}
